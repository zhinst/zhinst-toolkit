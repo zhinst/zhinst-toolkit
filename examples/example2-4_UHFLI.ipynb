{
 "cells": [
  {
   "cell_type": "markdown",
   "metadata": {},
   "source": [
    "# UHFLI\n",
    "\n",
    "We use the `tk.UHFLI` instrument driver for the UHFLI Lock-In amplifier."
   ]
  },
  {
   "cell_type": "code",
   "execution_count": 1,
   "metadata": {},
   "outputs": [
    {
     "name": "stdout",
     "output_type": "stream",
     "text": [
      "Successfully connected to data server at 10.42.0.2268004 api version: 6\n",
      "Successfully connected to device DEV2324 on interface 1GBE\n"
     ]
    }
   ],
   "source": [
    "import zhinst.toolkit as tk\n",
    "\n",
    "uhfli = tk.UHFLI(\"uhf1\", \"dev2324\", interface=\"1GbE\", host=\"10.42.0.226\")\n",
    "uhfli.setup() # set up data server connection\n",
    "uhfli.connect_device() # connect device to data server"
   ]
  },
  {
   "cell_type": "markdown",
   "metadata": {},
   "source": [
    "## Nodetree\n",
    "\n",
    "Access the UHFLI's nodetree:"
   ]
  },
  {
   "cell_type": "code",
   "execution_count": 2,
   "metadata": {
    "scrolled": true
   },
   "outputs": [
    {
     "data": {
      "text/plain": [
       "<zhinst.toolkit.control.nodetree.Nodetree object at 0x0000022F6E0D3248>\n",
       "nodes:\n",
       " - stats\n",
       " - oscs\n",
       " - demods\n",
       " - extrefs\n",
       " - triggers\n",
       " - status\n",
       " - dio\n",
       " - auxin\n",
       " - scope\n",
       " - system\n",
       " - sigins\n",
       " - sigouts\n",
       " - mods\n",
       " - boxcars\n",
       " - outputpwas\n",
       " - inputpwas\n",
       " - aucarts\n",
       " - aupolars\n",
       " - pids\n",
       " - features\n",
       " - auxouts\n",
       " - cnts\n",
       " - awg\n",
       "parameters:\n",
       " - clockbase"
      ]
     },
     "execution_count": 2,
     "metadata": {},
     "output_type": "execute_result"
    }
   ],
   "source": [
    "uhfli.nodetree"
   ]
  },
  {
   "cell_type": "markdown",
   "metadata": {},
   "source": [
    "The `Parameter` *sample* of the demodulators uses the `getSample(...)` method of the *ziPython* API to read the latest sample of the demodulator. "
   ]
  },
  {
   "cell_type": "code",
   "execution_count": 5,
   "metadata": {},
   "outputs": [
    {
     "data": {
      "text/plain": [
       "(0.3503776722265319-0.024019806656525276j)"
      ]
     },
     "execution_count": 5,
     "metadata": {},
     "output_type": "execute_result"
    }
   ],
   "source": [
    "uhfli.nodetree.demods[0].sample()"
   ]
  },
  {
   "cell_type": "markdown",
   "metadata": {},
   "source": [
    "> ⚠️ Note that this parameter only returns a *single* sample. There is no guarantee for any precise time-relation between consecutive samples. For proper (triggered) data acquisition of signals aligned to a precise time-grid, please use the *Data Acquisition Module* (see below)."
   ]
  },
  {
   "cell_type": "markdown",
   "metadata": {},
   "source": [
    "## The *Data Acquisition Module* of the UHFLI\n",
    "\n",
    "Similarly to the MFLI, the UHFLI comes with a *Data Acquisition Module*. For more details, see the corresponding example about the *Data Acquisition Module*. "
   ]
  },
  {
   "cell_type": "code",
   "execution_count": 6,
   "metadata": {},
   "outputs": [
    {
     "data": {
      "text/plain": [
       "<zhinst.toolkit.control.drivers.uhfli.DAQModule object at 0x0000022F73875748>\n",
       "\n",
       "signals:\n",
       "parameters:\n",
       " - awgcontrol\n",
       " - bandwidth\n",
       " - bitmask\n",
       " - bits\n",
       " - buffercount\n",
       " - buffersize\n",
       " - clearhistory\n",
       " - count\n",
       " - delay\n",
       " - device\n",
       " - duration\n",
       " - edge\n",
       " - enable\n",
       " - endless\n",
       " - eventcount_mode\n",
       " - fft_absolute\n",
       " - fft_window\n",
       " - findlevel\n",
       " - flags\n",
       " - forcetrigger\n",
       " - grid_cols\n",
       " - grid_direction\n",
       " - grid_mode\n",
       " - grid_overwrite\n",
       " - grid_repetitions\n",
       " - grid_rowrepetition\n",
       " - grid_rows\n",
       " - grid_waterfall\n",
       " - historylength\n",
       " - holdoff_count\n",
       " - holdoff_time\n",
       " - hysteresis\n",
       " - level\n",
       " - preview\n",
       " - pulse_max\n",
       " - pulse_min\n",
       " - refreshrate\n",
       " - save_csvlocale\n",
       " - save_csvseparator\n",
       " - save_directory\n",
       " - save_fileformat\n",
       " - save_filename\n",
       " - save_save\n",
       " - save_saveonread\n",
       " - spectrum_autobandwidth\n",
       " - spectrum_enable\n",
       " - spectrum_frequencyspan\n",
       " - spectrum_overlapped\n",
       " - triggered\n",
       " - triggernode\n",
       " - type"
      ]
     },
     "execution_count": 6,
     "metadata": {},
     "output_type": "execute_result"
    }
   ],
   "source": [
    "uhfli.daq"
   ]
  },
  {
   "cell_type": "markdown",
   "metadata": {},
   "source": [
    "The method `signals_list()` shows the available sources of streaming signals. Note that they differ with the installed options of the UHFLI."
   ]
  },
  {
   "cell_type": "code",
   "execution_count": 8,
   "metadata": {},
   "outputs": [
    {
     "data": {
      "text/plain": [
       "['dio0',\n",
       " 'auxin0',\n",
       " 'scope0',\n",
       " 'boxcar0',\n",
       " 'boxcar1',\n",
       " 'outputpwa0',\n",
       " 'outputpwa1',\n",
       " 'inputpwa0',\n",
       " 'inputpwa1',\n",
       " 'aucart0',\n",
       " 'aucart1',\n",
       " 'aupolar0',\n",
       " 'aupolar1',\n",
       " 'cnt0',\n",
       " 'cnt1',\n",
       " 'cnt2',\n",
       " 'cnt3',\n",
       " 'demod0',\n",
       " 'demod1',\n",
       " 'demod2',\n",
       " 'demod3',\n",
       " 'demod4',\n",
       " 'demod5',\n",
       " 'demod6',\n",
       " 'demod7',\n",
       " 'pid0_value',\n",
       " 'pid0_error',\n",
       " 'pid0_shift',\n",
       " 'pid1_value',\n",
       " 'pid1_error',\n",
       " 'pid1_shift',\n",
       " 'pid2_value',\n",
       " 'pid2_error',\n",
       " 'pid2_shift',\n",
       " 'pid3_value',\n",
       " 'pid3_error',\n",
       " 'pid3_shift']"
      ]
     },
     "execution_count": 8,
     "metadata": {},
     "output_type": "execute_result"
    }
   ],
   "source": [
    "uhfli.daq.signals_list()"
   ]
  },
  {
   "cell_type": "markdown",
   "metadata": {},
   "source": [
    "## The *Sweeper Module* of the UHFLI \n",
    "\n",
    "The UHFLI also feeatures a *Sweeper Module* with all of the following *Parameters*:"
   ]
  },
  {
   "cell_type": "code",
   "execution_count": 9,
   "metadata": {},
   "outputs": [
    {
     "data": {
      "text/plain": [
       "<zhinst.toolkit.control.drivers.uhfli.SweeperModule object at 0x0000022F73CA3888>\n",
       "\n",
       "signals:\n",
       "parameters:\n",
       " - averaging_sample\n",
       " - averaging_tc\n",
       " - averaging_time\n",
       " - awgcontrol\n",
       " - bandwidth\n",
       " - bandwidthcontrol\n",
       " - bandwidthoverlap\n",
       " - clearhistory\n",
       " - device\n",
       " - endless\n",
       " - gridnode\n",
       " - historylength\n",
       " - loopcount\n",
       " - maxbandwidth\n",
       " - omegasuppression\n",
       " - order\n",
       " - phaseunwrap\n",
       " - remainingtime\n",
       " - samplecount\n",
       " - save_csvlocale\n",
       " - save_csvseparator\n",
       " - save_directory\n",
       " - save_fileformat\n",
       " - save_filename\n",
       " - save_save\n",
       " - save_saveonread\n",
       " - scan\n",
       " - settling_inaccuracy\n",
       " - settling_tc\n",
       " - settling_time\n",
       " - sincfilter\n",
       " - start\n",
       " - stop\n",
       " - xmapping"
      ]
     },
     "execution_count": 9,
     "metadata": {},
     "output_type": "execute_result"
    }
   ],
   "source": [
    "uhfli.sweeper"
   ]
  },
  {
   "cell_type": "markdown",
   "metadata": {},
   "source": [
    "As for the *Data Acquisition Module* the available signal sources can be shown with `signals_list(...)`. They can differ depending on the options installed in the instrument."
   ]
  },
  {
   "cell_type": "code",
   "execution_count": 10,
   "metadata": {},
   "outputs": [
    {
     "data": {
      "text/plain": [
       "['dio0',\n",
       " 'auxin0',\n",
       " 'scope0',\n",
       " 'boxcar0',\n",
       " 'boxcar1',\n",
       " 'outputpwa0',\n",
       " 'outputpwa1',\n",
       " 'inputpwa0',\n",
       " 'inputpwa1',\n",
       " 'aucart0',\n",
       " 'aucart1',\n",
       " 'aupolar0',\n",
       " 'aupolar1',\n",
       " 'cnt0',\n",
       " 'cnt1',\n",
       " 'cnt2',\n",
       " 'cnt3',\n",
       " 'demod0',\n",
       " 'demod1',\n",
       " 'demod2',\n",
       " 'demod3',\n",
       " 'demod4',\n",
       " 'demod5',\n",
       " 'demod6',\n",
       " 'demod7',\n",
       " 'pid0_value',\n",
       " 'pid0_error',\n",
       " 'pid0_shift',\n",
       " 'pid1_value',\n",
       " 'pid1_error',\n",
       " 'pid1_shift',\n",
       " 'pid2_value',\n",
       " 'pid2_error',\n",
       " 'pid2_shift',\n",
       " 'pid3_value',\n",
       " 'pid3_error',\n",
       " 'pid3_shift']"
      ]
     },
     "execution_count": 10,
     "metadata": {},
     "output_type": "execute_result"
    }
   ],
   "source": [
    "uhfli.sweeper.signals_list()"
   ]
  },
  {
   "cell_type": "markdown",
   "metadata": {},
   "source": [
    "The *Parameters* that are available for sweeping can be listed with `sweep_parameter_list()`."
   ]
  },
  {
   "cell_type": "code",
   "execution_count": 12,
   "metadata": {},
   "outputs": [
    {
     "data": {
      "text/plain": [
       "['auxout1_offset',\n",
       " 'auxout2_offset',\n",
       " 'auxout3_offset',\n",
       " 'auxout4_offset',\n",
       " 'awg_amplitude1',\n",
       " 'awg_amplitude2',\n",
       " 'awg_trigger1',\n",
       " 'awg_trigger2',\n",
       " 'awg_trigger3',\n",
       " 'awg_trigger4',\n",
       " 'awg_triggerlevel1',\n",
       " 'awg_triggerlevel2',\n",
       " 'awg_userreg1',\n",
       " 'awg_userreg2',\n",
       " 'awg_userreg3',\n",
       " 'awg_userreg4',\n",
       " 'awg_userreg5',\n",
       " 'awg_userreg6',\n",
       " 'awg_userreg7',\n",
       " 'awg_userreg8',\n",
       " 'awg_userreg9',\n",
       " 'awg_userreg10',\n",
       " 'awg_userreg11',\n",
       " 'awg_userreg12',\n",
       " 'awg_userreg13',\n",
       " 'awg_userreg14',\n",
       " 'awg_userreg15',\n",
       " 'awg_userreg16',\n",
       " 'boxcar1_windowsize',\n",
       " 'boxcar1_windowstart',\n",
       " 'boxcar2_windowsize',\n",
       " 'boxcar2_windowstart',\n",
       " 'mod1_carrieramp',\n",
       " 'mod1_index',\n",
       " 'mod1_sideband1amp',\n",
       " 'mod1_sideband2amp',\n",
       " 'mod2_carrieramp',\n",
       " 'mod2_index',\n",
       " 'mod2_sideband1amp',\n",
       " 'mod2_sideband2amp',\n",
       " 'demdod1_phase',\n",
       " 'demdod2_phase',\n",
       " 'demdod3_phase',\n",
       " 'demdod4_phase',\n",
       " 'demdod5_phase',\n",
       " 'demdod6_phase',\n",
       " 'demdod7_phase',\n",
       " 'demdod8_phase',\n",
       " 'frequency1',\n",
       " 'frequency2',\n",
       " 'frequency3',\n",
       " 'frequency4',\n",
       " 'frequency5',\n",
       " 'frequency6',\n",
       " 'frequency7',\n",
       " 'frequency8',\n",
       " 'pid1_setpoint',\n",
       " 'pid2_setpoint',\n",
       " 'pid3_setpoint',\n",
       " 'pid4_setpoint',\n",
       " 'output1_amp',\n",
       " 'output1_offset',\n",
       " 'output2_amp',\n",
       " 'output2_offset']"
      ]
     },
     "execution_count": 12,
     "metadata": {},
     "output_type": "execute_result"
    }
   ],
   "source": [
    "uhfli.sweeper.sweep_parameter_list()"
   ]
  }
 ],
 "metadata": {
  "kernelspec": {
   "display_name": "qcodes",
   "language": "python",
   "name": "qcodes"
  },
  "language_info": {
   "codemirror_mode": {
    "name": "ipython",
    "version": 3
   },
   "file_extension": ".py",
   "mimetype": "text/x-python",
   "name": "python",
   "nbconvert_exporter": "python",
   "pygments_lexer": "ipython3",
   "version": "3.7.5"
  }
 },
 "nbformat": 4,
 "nbformat_minor": 4
}
