{
 "cells": [
  {
   "cell_type": "markdown",
   "metadata": {},
   "source": [
    "# *'Simple'* sequence: waveform upload\n",
    "\n",
    "Many use cases require the freedom to define waveforms on a sample-basis. The `\"Simple\"` sequence type provided by the `zhinst-toolkit` allows for exactly that. \n",
    "\n",
    "If the *Simple* sequence is configured on the AWG Core, the user can add waveforms to a queue of waveforms that are uploaded to the AWG Core. All the waveforms in the queue will then be played in that order. The waveforms are defiend as simple `numpy` arrays, with every value in the array corresponding to one sample. Since the waveforms are defined purely by samples, the duration of the waveform depends on the *sampling rate* of the AWG Core.\n",
    "\n",
    "For our examples we initialize one HDAWG and one UHFQA, both configured to use the same *'Multi Device Connection'*."
   ]
  },
  {
   "cell_type": "code",
   "execution_count": 1,
   "metadata": {},
   "outputs": [
    {
     "name": "stdout",
     "output_type": "stream",
     "text": [
      "Successfully connected to data server at 10.42.0.2268004 api version: 6\n",
      "Successfully connected to device DEV8030 on interface 1GBE\n",
      "Successfully connected to device DEV2266 on interface 1GBE\n"
     ]
    }
   ],
   "source": [
    "import zhinst.toolkit as tk\n",
    "import numpy as np\n",
    "\n",
    "# create a 'Multi Device Connection'\n",
    "mdc = tk.MultiDeviceConnection(host=\"10.42.0.226\")\n",
    "mdc.setup()\n",
    "\n",
    "# connect the devices\n",
    "mdc.connect_device(tk.HDAWG(\"hdawg 1\", \"dev8030\"))\n",
    "mdc.connect_device(tk.UHFQA(\"uhfqa 1\", \"dev2266\"))\n",
    "\n",
    "# references to the instruments are held in attributes 'hdawgs' and 'uhfqas'\n",
    "hdawg = mdc.hdawgs[\"hdawg 1\"]\n",
    "uhfqa = mdc.uhfqas[\"uhfqa 1\"]"
   ]
  },
  {
   "cell_type": "markdown",
   "metadata": {},
   "source": [
    "The sequence parameter `sequence_type` has to be set to `\"Simple\"` for the AWG Cores we want to use. Other sequence parameter are for now left at their default values."
   ]
  },
  {
   "cell_type": "code",
   "execution_count": 2,
   "metadata": {},
   "outputs": [],
   "source": [
    "# on the HDAWG\n",
    "hdawg.awgs[0].set_sequence_params(sequence_type=\"Simple\")\n",
    "\n",
    "# ont he UHFQA\n",
    "uhfqa.awg.set_sequence_params(sequence_type=\"Simple\")"
   ]
  },
  {
   "cell_type": "markdown",
   "metadata": {},
   "source": [
    "## Sample-based waveforms\n",
    "\n",
    "We can define two waveforms as numpy arrays. For each channel pair of an AWG Core a waveform is defined by specifying the wave data on both channels. For `wave1` on channel 1 we create an array of `1.0` s with 1000 samples. The `wave2` array for channel 2 is the same but with the opposite amplitude. "
   ]
  },
  {
   "cell_type": "code",
   "execution_count": 3,
   "metadata": {},
   "outputs": [],
   "source": [
    "wave1 =  1.0 * np.ones(1000)\n",
    "wave2 = -1.0 * np.ones(1000)"
   ]
  },
  {
   "cell_type": "markdown",
   "metadata": {},
   "source": [
    "We can now reset the AWG's waveform queue (to be sure it's empty) and add our waveform to the queue with `queue_waveform(...)`. We use `wave1` for output channel 1 (the first argument) and `wave2` for output channel 2 (the second argument). "
   ]
  },
  {
   "cell_type": "code",
   "execution_count": 4,
   "metadata": {},
   "outputs": [
    {
     "name": "stdout",
     "output_type": "stream",
     "text": [
      "Current length of queue: 1\n"
     ]
    }
   ],
   "source": [
    "hdawg.awgs[0].reset_queue()\n",
    "hdawg.awgs[0].queue_waveform(wave1, wave2)"
   ]
  },
  {
   "cell_type": "markdown",
   "metadata": {},
   "source": [
    "Now we have added our waveform to the queue. To be sure, let's check what's in the queue:"
   ]
  },
  {
   "cell_type": "code",
   "execution_count": 5,
   "metadata": {},
   "outputs": [
    {
     "data": {
      "text/plain": [
       "[<zhinst.toolkit.helpers.waveform.Waveform at 0x1dc51e82808>]"
      ]
     },
     "execution_count": 5,
     "metadata": {},
     "output_type": "execute_result"
    }
   ],
   "source": [
    "hdawg.awgs[0].waveforms"
   ]
  },
  {
   "cell_type": "markdown",
   "metadata": {},
   "source": [
    "The `Waveform` object in the queue holds the data for the waveforms on the two channels of the AWG Core. It aligns the numpy arrays to the minimum waveform length and sample granularity and brings the data in a format that is easily uplaoded to the device.\n",
    "\n",
    "The next step is to compile the corresponding `.seqC` sequence program to the AWG Core. We do this by invoking the `compile()` method of the AWG Core. \n",
    "It is important to note that the compiled sequence program only initializes *placeholders for the waveforms* in the correct length that match the waveforms in the queue. However, the waveforms are not uploaded yet. This is done separately by the method `upload_waveforms()`. If after the compilation the waveform queue is modified, the placeholders in the compiled program do not match the uplaoded waveform data, there will be an error! This is why for the *'Simple'* sequence, there is a special method `compile_and_upload_waveforms()` that combines the two commands and makes sure that the correct sequence program is compiled on the AWG Core before uploading the waveform data.\n",
    "   \n",
    "> ⚠️ for a *'Simple'* sequence use `compile_and_upload_waveforms()`"
   ]
  },
  {
   "cell_type": "code",
   "execution_count": 6,
   "metadata": {},
   "outputs": [
    {
     "name": "stdout",
     "output_type": "stream",
     "text": [
      "Compilation successful\n",
      "hdawg 1-0: Sequencer status: ELF file uploaded\n",
      "Upload of 1 waveforms took 0.037978 s\n"
     ]
    }
   ],
   "source": [
    "hdawg.awgs[0].compile_and_upload_waveforms()"
   ]
  },
  {
   "cell_type": "markdown",
   "metadata": {},
   "source": [
    "The `.seqC` sequence program on the AWG Core looks as follows\n",
    "\n",
    "``` c++\n",
    "// Zurich Instruments sequencer program\n",
    "// sequence type:              Simple\n",
    "// automatically generated:    28/04/2020 @14:38\n",
    "\n",
    "wave w1_1 = randomUniform(1008);\n",
    "wave w1_2 = randomUniform(1008);\n",
    "setTrigger(0);\n",
    "\n",
    "repeat(1){\n",
    "    // waveform 1 / 1\n",
    "    wait(28374);\n",
    "    playWave(w1_1, w1_2);\n",
    "    waitWave();\n",
    "}\n",
    "```\n",
    "with one `playWave(...)` command within a `repeat(..)` loop. The loop is only reapeated once, because by default the value for the sequence parameter `repetitions` is `1`. The waveform placeholders are defined before the main loop (`randomUniform(...)`). The waveform data however is replaced upon uploading the waveforms in the queue. You can check this in the *LabOne* UI in the *AWG Sequencer* Tab by going to *Waveform Viewer* and selecting the uploaded waveform on the right under *Waveform*.\n",
    "\n",
    "## Timing considerations\n",
    "\n",
    "Because the waveforms played by a *'Simple'* sequence are defined by sample, the time-axis of the waveform is given by the sampling rate of the AWG Core. It is the user's responsibility to calculate the correct timing of their waveforms with the given sampling rate. The HDAWG 's sampling rate defaults to *2.4 Gs* and the *UHFQA* 's to *1.8 Gs*. \n",
    "\n",
    "> ⚠️ the time-axis of the waveforms is given by the AWG sampling rate   \n",
    "\n",
    "If, for example, we want to play a *1 us* long waveform on the HDAWG, we need to calculate the required number of samples in the waveform. This results in a waveform with `1e-6 / 2.4e9 = 2400` samples.  "
   ]
  },
  {
   "cell_type": "markdown",
   "metadata": {},
   "source": [
    "## Uploading multiple waveforms\n",
    "\n",
    "Until now we have only uploaded a single custom waveform. As the *queue* suggests, it is also possible with a *'Simple'* sequence to upload and play multiple different waveforms. They simply need to be added to the queue and will then be played in that order inside the main loop of the sequence program.\n",
    "\n",
    "For example, we might want to define custom waveforms with different amplitudes and add them to the queue:"
   ]
  },
  {
   "cell_type": "code",
   "execution_count": 7,
   "metadata": {},
   "outputs": [
    {
     "name": "stdout",
     "output_type": "stream",
     "text": [
      "Current length of queue: 1\n",
      "Current length of queue: 2\n",
      "Current length of queue: 3\n",
      "Current length of queue: 4\n",
      "Current length of queue: 5\n",
      "Current length of queue: 6\n",
      "Current length of queue: 7\n",
      "Current length of queue: 8\n",
      "Current length of queue: 9\n",
      "Current length of queue: 10\n",
      "Current length of queue: 11\n",
      "Current length of queue: 12\n",
      "Current length of queue: 13\n",
      "Current length of queue: 14\n",
      "Current length of queue: 15\n",
      "Current length of queue: 16\n",
      "Current length of queue: 17\n",
      "Current length of queue: 18\n",
      "Current length of queue: 19\n",
      "Current length of queue: 20\n",
      "Current length of queue: 21\n"
     ]
    }
   ],
   "source": [
    "hdawg.awgs[0].reset_queue()\n",
    "\n",
    "amplitudes = np.linspace(-1, 1, 21)\n",
    "wave = np.ones(1600)\n",
    "\n",
    "for amp in amplitudes:\n",
    "    hdawg.awgs[0].queue_waveform(amp * wave, amp * wave)"
   ]
  },
  {
   "cell_type": "markdown",
   "metadata": {},
   "source": [
    "Now there are 21 different waveforms in the queue."
   ]
  },
  {
   "cell_type": "code",
   "execution_count": 9,
   "metadata": {},
   "outputs": [
    {
     "data": {
      "text/plain": [
       "21"
      ]
     },
     "execution_count": 9,
     "metadata": {},
     "output_type": "execute_result"
    }
   ],
   "source": [
    "len(hdawg.awgs[0].waveforms)"
   ]
  },
  {
   "cell_type": "markdown",
   "metadata": {},
   "source": [
    "Let's compile the program and upload the waveforms ..."
   ]
  },
  {
   "cell_type": "code",
   "execution_count": 10,
   "metadata": {},
   "outputs": [
    {
     "name": "stdout",
     "output_type": "stream",
     "text": [
      "Compilation successful\n",
      "hdawg 1-0: Sequencer status: ELF file uploaded\n",
      "Upload of 21 waveforms took 0.11493 s\n"
     ]
    }
   ],
   "source": [
    "hdawg.awgs[0].compile_and_upload_waveforms()"
   ]
  },
  {
   "cell_type": "markdown",
   "metadata": {},
   "source": [
    "... and we see that the `.seqC` program on the AWG looks like this\n",
    "\n",
    "``` c++\n",
    "// Zurich Instruments sequencer program\n",
    "// sequence type:              Simple\n",
    "// automatically generated:    28/04/2020 @15:03\n",
    "\n",
    "wave w1_1 = randomUniform(1600);\n",
    "wave w1_2 = randomUniform(1600);\n",
    "wave w2_1 = randomUniform(1600);\n",
    "wave w2_2 = randomUniform(1600);\n",
    "...\n",
    "wave w21_1 = randomUniform(1600);\n",
    "wave w21_2 = randomUniform(1600);\n",
    "setTrigger(0);\n",
    "\n",
    "repeat(1){\n",
    "\n",
    "    // waveform 1 / 21\n",
    "    wait(28300);\n",
    "    playWave(w1_1, w1_2);\n",
    "    waitWave();\n",
    "\n",
    "    // waveform 2 / 21\n",
    "    wait(28300);\n",
    "    playWave(w2_1, w2_2);\n",
    "    waitWave();\n",
    "\n",
    "    ...\n",
    "\n",
    "    // waveform 21 / 21\n",
    "    wait(28300);\n",
    "    playWave(w21_1, w21_2);\n",
    "    waitWave();\n",
    "\n",
    "}\n",
    "```\n",
    "\n",
    "with 21 different waveforms initialized and their sample data replaced by the uplaoded waeforms. All 21 waveforms are played one after the other within the main program loop. The distance between consecutive waveforms is given by the `period` sequence parameter. It is of course also possible to upload waveforms of different lengths."
   ]
  },
  {
   "cell_type": "markdown",
   "metadata": {},
   "source": [
    "## Waveform delays\n",
    "\n",
    "Another powerful feature of the *'Simple'* sequence is the possibility to define separate *delays* for each waveform in the queue. If not specified, this delay value defaults to 0 and all waveforms in the queue are played with the same alignment to the time origin `t=0`. However, it can be very useful to define an offset from `t=0` that is different for every single waveform in the queue (as opposed to a common shift with *trigger_delay*). This can be done by specifying the keyword argument `delay` in the method `queue_waveform` which assigns a delay time in seconds to the queued waveform. With a positive value for *delay*, the waveform is shifted forward in time with respect to the time origin.\n",
    "\n",
    "A simple example:"
   ]
  },
  {
   "cell_type": "code",
   "execution_count": 17,
   "metadata": {},
   "outputs": [
    {
     "name": "stdout",
     "output_type": "stream",
     "text": [
      "Current length of queue: 1\n",
      "Current length of queue: 2\n",
      "Current length of queue: 3\n",
      "Current length of queue: 4\n",
      "Current length of queue: 5\n",
      "Current length of queue: 6\n",
      "Current length of queue: 7\n",
      "Current length of queue: 8\n",
      "Current length of queue: 9\n",
      "Current length of queue: 10\n",
      "Current length of queue: 11\n",
      "Compilation successful\n",
      "hdawg 1-0: Sequencer status: ELF file uploaded\n",
      "Upload of 11 waveforms took 0.057966 s\n"
     ]
    }
   ],
   "source": [
    "hdawg.awgs[0].reset_queue()\n",
    "\n",
    "# define a rectangular wave of length 333 ns\n",
    "wave = np.ones(800)\n",
    "\n",
    "# define the delay times\n",
    "delays = np.linspace(0, 1e-6, 11)\n",
    "\n",
    "# queue waves with different delays!\n",
    "for d in delays:\n",
    "    hdawg.awgs[0].queue_waveform(wave, wave, delay=d)\n",
    "    \n",
    "# compile and upload\n",
    "hdawg.awgs[0].compile_and_upload_waveforms()"
   ]
  },
  {
   "cell_type": "code",
   "execution_count": 18,
   "metadata": {},
   "outputs": [
    {
     "data": {
      "text/plain": [
       "[0.0, 1e-07, 2e-07, 3e-07, 4e-07, 5e-07, 6e-07, 7e-07, 8e-07, 9e-07, 1e-06]"
      ]
     },
     "execution_count": 18,
     "metadata": {},
     "output_type": "execute_result"
    }
   ],
   "source": [
    "hdawg.awgs[0].sequence_params[\"sequence_parameters\"][\"delay_times\"]"
   ]
  },
  {
   "cell_type": "markdown",
   "metadata": {},
   "source": [
    "Having a look at the `.seqC` sequence program on the device, we see that the wait time between the `playWave` commands is different between each entry.\n",
    "\n",
    "``` c++\n",
    "\n",
    "...\n",
    "repeat(1){\n",
    "\n",
    "    // waveform 1 / 11\n",
    "    wait(28400);\n",
    "    playWave(w1_1, w1_2);\n",
    "    waitWave();\n",
    "\n",
    "    // waveform 2 / 11\n",
    "    wait(28370);\n",
    "    playWave(w2_1, w2_2);\n",
    "    waitWave();\n",
    "    wait(30);\n",
    "\n",
    "    ...\n",
    "\n",
    "    // waveform 11 / 11\n",
    "    wait(28100);\n",
    "    playWave(w11_1, w11_2);\n",
    "    waitWave();\n",
    "    wait(300);\n",
    "\n",
    "}\n",
    "\n",
    "```\n",
    "\n",
    "This means that the waveform at each point in the queue is played with a different offset to the time origin `t=0`. \n",
    "\n",
    "```\n",
    "+          t=0 +              +              +              +              +\n",
    "|           |  |           |  |           |  |           |  |           |  |\n",
    "|        XXX|  |       XXX |  |      XXX  |  |     XXX   |  |    XXX    |  |\n",
    "+--------XXX+--+-------XXX-+--+------XXX--+--+-----XXX---+--+----XXX----+--+--  --  --\n",
    "|   delay 1    |   delay 2    |   delay 3    |     ...      |    ...       |\n",
    "+              +              +              +              +              +\n",
    "\n",
    "```"
   ]
  },
  {
   "cell_type": "markdown",
   "metadata": {},
   "source": [
    "## Aligned waveform playback\n",
    "\n",
    "In a typical use case, it is required to play (custom) waveforms on different AWG Cores and different instruments in a way such that the waveforms are perfectly aligned. As a straightforward example we want to use one *AWG Core* of the HDAWG to play a rectangular waveform while at the same time triggering the waveform playback on the UHFQA. For the triggering, the *'Mark'* output of the AWG on the HDAWG needs to be connected with a coax cable to the *Trig/Ref 1* on the UHFQA.\n",
    "\n",
    "\n",
    "```\n",
    "              HDAWG 1                                                         t=0\n",
    "          +-----------+                        :______________________________:         :\n",
    "     +----+   AWG 1   |  Trigger              _|                         XXXXX|_________:_\n",
    "     |    +-----------+  (\"Send Trigger\")      :                              :         :\n",
    "     |                                         :                              :         :\n",
    "     |                                         :                              :         :\n",
    "     |     UHFQA                               :                              :         :\n",
    "     |    +-----------+                        :                              :         :\n",
    "     +----->          | Readout               _:______________________________|XXXXX|___:_\n",
    "          +-----------+ (\"External Trigger\")\n",
    "```\n",
    "\n",
    "We configure both AWGs with the same number or `repetitions` and the same `period`. The *trigger mode* of the AWG Core on the HDAWG is set to `\"Send Trigger\"`, i.e. to send out a trigger signal at the start of every period. The *trigger mode* of the UHFQA is set to wait for a trigger input at the start of every period with `\"External Trigger\"`. "
   ]
  },
  {
   "cell_type": "code",
   "execution_count": 4,
   "metadata": {},
   "outputs": [],
   "source": [
    "period = 20e-6\n",
    "repetitions = 1e3\n",
    "\n",
    "# configure sequence parameters of master trigger\n",
    "hdawg.awgs[0].set_sequence_params(\n",
    "    sequence_type=\"Simple\",\n",
    "    period=period,\n",
    "    repetitions=repetitions,\n",
    "    trigger_mode=\"Send Trigger\",     # send out the trigger signal \n",
    "    alignment=\"End with Trigger\",    # end waveform on t=0 \n",
    ")\n",
    "\n",
    "# configure sequence parameters of UHFQA\n",
    "uhfqa.awg.set_sequence_params(\n",
    "    sequence_type=\"Simple\",\n",
    "    period=period,\n",
    "    repetitions=repetitions,\n",
    "    trigger_mode=\"External Trigger\", # wait for the trigger signal \n",
    "    alignment=\"Start with Trigger\",  # start waveform on t=0\n",
    ")"
   ]
  },
  {
   "cell_type": "markdown",
   "metadata": {},
   "source": [
    "By setting the parameter `alignment` to `\"End with Trigger\"` on the HDAWG and `\"Start with Trigger\"` on the UHFQA, we make sure that the waveforms from different devices are played right after each other.\n",
    "\n",
    "For both AWG Cores we add a waveform to the queue. The waveform is defined by the numpy array `np.ones(...)` of a certain length. With the method `compile_and_upload_waveforms()` we tell the AWG to compile the corresponding sequence program and upload the waveforms in the queue."
   ]
  },
  {
   "cell_type": "code",
   "execution_count": 19,
   "metadata": {},
   "outputs": [
    {
     "name": "stdout",
     "output_type": "stream",
     "text": [
      "Current length of queue: 1\n",
      "Compilation successful\n",
      "hdawg 1-0: Sequencer status: ELF file uploaded\n",
      "Upload of 1 waveforms took 0.021994 s\n",
      "Current length of queue: 1\n",
      "Compilation successful\n",
      "uhfqa 1-0: Sequencer status: ELF file uploaded\n",
      "Upload of 1 waveforms took 0.045054 s\n"
     ]
    }
   ],
   "source": [
    "# queue rectangular waveform on HDAWG\n",
    "hdawg.awgs[0].reset_queue()\n",
    "hdawg.awgs[0].queue_waveform(np.ones(1000), -np.ones(1000)) \n",
    "hdawg.awgs[0].compile_and_upload_waveforms()\n",
    "\n",
    "# queue rectangular waveform on UHFQA\n",
    "uhfqa.awg.reset_queue()\n",
    "uhfqa.awg.queue_waveform(-np.ones(1000), np.ones(1000)) \n",
    "uhfqa.awg.compile_and_upload_waveforms()"
   ]
  },
  {
   "cell_type": "markdown",
   "metadata": {},
   "source": [
    "Now run the experiment. First, make sure the outputs are on. Start the AWG of the UHFQA first, then the Master AWG on the HDAWG. "
   ]
  },
  {
   "cell_type": "code",
   "execution_count": 20,
   "metadata": {},
   "outputs": [],
   "source": [
    "# turn outputs on\n",
    "hdawg.awgs[0].outputs((\"on\", \"on\"))\n",
    "uhfqa.awg.outputs((\"on\", \"on\"))\n",
    "\n",
    "# arm the UHFQA\n",
    "uhfqa.arm(length=repetitions, averages=1)\n",
    "\n",
    "# start uhfqa awg, waiting for trigger\n",
    "uhfqa.awg.run()\n",
    "\n",
    "# start master awg\n",
    "hdawg.awgs[0].run()\n",
    "hdawg.awgs[0].wait_done()"
   ]
  },
  {
   "cell_type": "markdown",
   "metadata": {},
   "source": [
    "Verify the outputs with a scope, e.g. the built-in scope of the UHFQA. The rectangular waveform output of the HDAWG should be followed directly by the waveform from the UHFQA. "
   ]
  },
  {
   "cell_type": "markdown",
   "metadata": {},
   "source": [
    "## Master trigger waveform playback\n",
    "\n",
    "The alignment of waveforms played on two AWG Cores can be generalized to a *Master Trigger* setup. The idea is to use one AWG Core as a *Master Trigger* for all other AWGs. The trigger AWG thus defines the start of every period and all other AWGs wait for its trigger signal. A setup with one HDAWG and one UHFQA could be configured like this: \n",
    "\n",
    "```\n",
    "              HDAWG 1\n",
    "          +-----------+                     ______________________________\n",
    "+----<----+   AWG 1   |  Trigger          _|                              |_________:_\n",
    "|         +-----------+                    :                              :         :\n",
    "+----+----->  AWG 2   |  AWGs[0]          _:________________________|XXXXX|_________:_\n",
    "     |    |-----------+                    :                              :         :\n",
    "     +----->  AWG 3   |  AWGs[1]          _:_____________________|XXXXXXXX|_________:_\n",
    "     |    |-----------+                    :                              :         :\n",
    "     +----->  AWG 4   |  AWGs[2]          _:__________________|XXXXXXXXXXX|_________:_\n",
    "     |    +-----------+                    :                              :         :\n",
    "     |                                     :                              :         :\n",
    "     |     UHFQA                           :                              :         :\n",
    "     |    +-----------+                    :                              :         :\n",
    "     +----->          | Readout           _:______________________________|XXXXX|___:_\n",
    "          +-----------+\n",
    "```\n",
    "Note that the Trigger AWG could just as well play a *'Simple'* sequence and have its *trigger mode* set to *'Send Trigger'*. \n",
    "\n",
    "If for example the AWG Cores of the HDAWG are used to drive qubits and the UHFQA is configured for multilexed dispersive readout, we would want the waveforms to be aligned such that the readout pulse starts right after the control pulses have ended. This would be done by having all drive AWGs aligned to *'End with Trigger'* and the UHFQA's AWG to *'Start with Trigger'*."
   ]
  },
  {
   "cell_type": "code",
   "execution_count": 4,
   "metadata": {},
   "outputs": [
    {
     "name": "stdout",
     "output_type": "stream",
     "text": [
      "Compilation successful\n",
      "hdawg 1-0: Sequencer status: ELF file uploaded\n"
     ]
    }
   ],
   "source": [
    "# group and rename AWG Cores\n",
    "trigger = hdawg.awgs[0]\n",
    "awgs = hdawg.awgs[1:]\n",
    "readout = uhfqa.awg\n",
    "\n",
    "# common sequence parameters\n",
    "period = 20e-6\n",
    "repetitions = 1000\n",
    "\n",
    "# configure trigger AWG\n",
    "trigger.set_sequence_params(\n",
    "    sequence_type=\"Trigger\",\n",
    "    period=period,\n",
    "    repetitions=repetitions,\n",
    ")\n",
    "trigger.compile()\n",
    "\n",
    "# configure triggered AWG Cores\n",
    "for awg in awgs:\n",
    "    awg.set_sequence_params(\n",
    "        sequence_type=\"Simple\",\n",
    "        period=period,\n",
    "        repetitions=repetitions,\n",
    "        alignment=\"End with Trigger\",\n",
    "        trigger_mode=\"External Trigger\",\n",
    "    )\n",
    "readout.set_sequence_params(\n",
    "    sequence_type=\"Simple\",\n",
    "    period=period,\n",
    "    repetitions=repetitions,\n",
    "    alignment=\"Start with Trigger\",\n",
    "    trigger_mode=\"External Trigger\",\n",
    ")   "
   ]
  },
  {
   "cell_type": "markdown",
   "metadata": {},
   "source": [
    "For demonstration purposes we can upload waveforms of different lengths to the drive AWGs and to the UHFQA."
   ]
  },
  {
   "cell_type": "code",
   "execution_count": 5,
   "metadata": {},
   "outputs": [
    {
     "name": "stdout",
     "output_type": "stream",
     "text": [
      "Current length of queue: 1\n",
      "Current length of queue: 1\n",
      "Current length of queue: 1\n",
      "Current length of queue: 1\n",
      "Compilation successful\n",
      "hdawg 1-1: Sequencer status: ELF file uploaded\n",
      "Upload of 1 waveforms took 0.06787 s\n",
      "Compilation successful\n",
      "hdawg 1-2: Sequencer status: ELF file uploaded\n",
      "Upload of 1 waveforms took 0.017991 s\n",
      "Compilation successful\n",
      "hdawg 1-3: Sequencer status: ELF file uploaded\n",
      "Upload of 1 waveforms took 0.022224 s\n",
      "Compilation successful\n",
      "uhfqa 1-0: Sequencer status: ELF file uploaded\n",
      "Upload of 1 waveforms took 0.063616 s\n"
     ]
    }
   ],
   "source": [
    "# reset queues\n",
    "[awg.reset_queue() for awg in awgs]\n",
    "readout.reset_queue()\n",
    "\n",
    "# queue waveforms\n",
    "awgs[0].queue_waveform(np.ones(800), -np.ones(800))\n",
    "awgs[1].queue_waveform(np.ones(1000), -np.ones(1000))\n",
    "awgs[2].queue_waveform(np.ones(1200), -np.ones(1200))\n",
    "readout.queue_waveform(np.ones(800), -np.ones(800))\n",
    "\n",
    "# compile and upload triggered AWGs \n",
    "[awg.compile_and_upload_waveforms() for awg in awgs]\n",
    "readout.compile_and_upload_waveforms()"
   ]
  }
 ],
 "metadata": {
  "kernelspec": {
   "display_name": "qcodes",
   "language": "python",
   "name": "qcodes"
  },
  "language_info": {
   "codemirror_mode": {
    "name": "ipython",
    "version": 3
   },
   "file_extension": ".py",
   "mimetype": "text/x-python",
   "name": "python",
   "nbconvert_exporter": "python",
   "pygments_lexer": "ipython3",
   "version": "3.7.5"
  }
 },
 "nbformat": 4,
 "nbformat_minor": 4
}
