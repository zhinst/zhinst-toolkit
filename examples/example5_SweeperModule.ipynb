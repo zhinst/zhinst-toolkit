{
 "cells": [
  {
   "cell_type": "markdown",
   "metadata": {},
   "source": [
    "# The *Sweeper Module*\n"
   ]
  },
  {
   "cell_type": "code",
   "execution_count": 1,
   "metadata": {},
   "outputs": [
    {
     "name": "stdout",
     "output_type": "stream",
     "text": [
      "Successfully connected to data server at 10.42.3.788004 api version: 6\n",
      "Successfully connected to device DEV3337 on interface PCIE\n"
     ]
    }
   ],
   "source": [
    "import zhinst.toolkit as tk\n",
    "\n",
    "mfli = tk.MFLI(\"mf1\", \"dev3337\", interface=\"pcie\", host=\"10.42.3.78\")\n",
    "mfli.setup()           # set up data server connection\n",
    "mfli.connect_device()  # connect device to data server"
   ]
  },
  {
   "cell_type": "markdown",
   "metadata": {},
   "source": [
    "The Sweeper Module allows the user to perform sweeps as in the Sweeper Tab of the LabOne User Interface. In general, the Sweeper can be used to obtain data when measuring a DUT's response to varying (or sweeping) one instrument setting while other instrument settings are kept constant. For more information on the *Sweeper Module*  see the [LabOne Programming Manual](https://www.zhinst.com/sites/default/files/documents/2020-03/LabOneProgrammingManual_20.01.0.pdf).\n",
    "\n",
    "All the module parameters are added as attributes of the *Sweeper Module*."
   ]
  },
  {
   "cell_type": "code",
   "execution_count": 2,
   "metadata": {},
   "outputs": [
    {
     "data": {
      "text/plain": [
       "<zhinst.toolkit.control.drivers.mfli.SweeperModule object at 0x000001F8F7268288>\n",
       "\n",
       "signals:\n",
       "parameters:\n",
       " - averaging_sample\n",
       " - averaging_tc\n",
       " - averaging_time\n",
       " - awgcontrol\n",
       " - bandwidth\n",
       " - bandwidthcontrol\n",
       " - bandwidthoverlap\n",
       " - clearhistory\n",
       " - device\n",
       " - endless\n",
       " - gridnode\n",
       " - historylength\n",
       " - loopcount\n",
       " - maxbandwidth\n",
       " - omegasuppression\n",
       " - order\n",
       " - phaseunwrap\n",
       " - remainingtime\n",
       " - samplecount\n",
       " - save_csvlocale\n",
       " - save_csvseparator\n",
       " - save_directory\n",
       " - save_fileformat\n",
       " - save_filename\n",
       " - save_save\n",
       " - save_saveonread\n",
       " - scan\n",
       " - settling_inaccuracy\n",
       " - settling_tc\n",
       " - settling_time\n",
       " - sincfilter\n",
       " - start\n",
       " - stop\n",
       " - xmapping"
      ]
     },
     "execution_count": 2,
     "metadata": {},
     "output_type": "execute_result"
    }
   ],
   "source": [
    "mfli.sweeper"
   ]
  },
  {
   "cell_type": "markdown",
   "metadata": {},
   "source": [
    "As for the *Data Acquisition Module* the available signal sources can be shown with `signals_list(...)`. They can differ depending on the options installed in the instrument.\n",
    "\n",
    "The device parameters that are available for sweeping can be listed with `sweep_parameter_list()`:"
   ]
  },
  {
   "cell_type": "code",
   "execution_count": 3,
   "metadata": {},
   "outputs": [
    {
     "data": {
      "text/plain": [
       "['auxout0offset',\n",
       " 'auxout1offset',\n",
       " 'auxout2offset',\n",
       " 'auxout3offset',\n",
       " 'demdod0phase',\n",
       " 'demdod1phase',\n",
       " 'frequency',\n",
       " 'output0amp',\n",
       " 'output0offset']"
      ]
     },
     "execution_count": 3,
     "metadata": {},
     "output_type": "execute_result"
    }
   ],
   "source": [
    "mfli.sweeper.sweep_parameter_list()"
   ]
  },
  {
   "cell_type": "markdown",
   "metadata": {},
   "source": [
    "A typical frequency sweep from 1-10 kHz and 100 steps is configured as follows. We add the signal from the first demodulator (*'demod0'*) to the measurement. "
   ]
  },
  {
   "cell_type": "code",
   "execution_count": 4,
   "metadata": {},
   "outputs": [
    {
     "name": "stdout",
     "output_type": "stream",
     "text": [
      "set sweep parameter to 'frequency': 'oscs/0/freq'\n"
     ]
    }
   ],
   "source": [
    "# prepare a frequency sweep\n",
    "mfli.sweeper.start(1e3)\n",
    "mfli.sweeper.stop(10e3)\n",
    "mfli.sweeper.samplecount(100)\n",
    "mfli.sweeper.sweep_parameter(\"frequency\")\n",
    "\n",
    "# add a singal source\n",
    "demod = mfli.sweeper.signals_add(\"demod0\")"
   ]
  },
  {
   "cell_type": "code",
   "execution_count": 5,
   "metadata": {},
   "outputs": [
    {
     "data": {
      "text/plain": [
       "['/dev3337/demods/0/sample']"
      ]
     },
     "execution_count": 5,
     "metadata": {},
     "output_type": "execute_result"
    }
   ],
   "source": [
    "mfli.sweeper.signals"
   ]
  },
  {
   "cell_type": "markdown",
   "metadata": {},
   "source": [
    "The measurement is simply started with the `measure()` method:"
   ]
  },
  {
   "cell_type": "code",
   "execution_count": 6,
   "metadata": {},
   "outputs": [
    {
     "name": "stdout",
     "output_type": "stream",
     "text": [
      "subscribed to: /dev3337/demods/0/sample\n",
      "Sweeping oscs/0/freq from 1000.0 to 10000.0\n",
      "Progress: 0.0%\n",
      "Progress: 6.0%\n",
      "Progress: 13.0%\n",
      "Progress: 18.0%\n",
      "Progress: 24.0%\n",
      "Progress: 32.0%\n",
      "Progress: 39.0%\n",
      "Progress: 46.0%\n",
      "Progress: 54.0%\n",
      "Progress: 62.0%\n",
      "Progress: 69.0%\n",
      "Progress: 74.0%\n",
      "Progress: 74.0%\n",
      "Progress: 74.0%\n",
      "Progress: 82.0%\n",
      "Progress: 90.0%\n",
      "Progress: 98.0%\n",
      "Finished\n"
     ]
    }
   ],
   "source": [
    "# perform measurement\n",
    "mfli.sweeper.measure()"
   ]
  },
  {
   "cell_type": "markdown",
   "metadata": {},
   "source": [
    "The results are stored in the `results` dictionary with the exact node path as the key. The value is a `DAQResults` object from the `zhinst-toolkit`. It contains all the data of the demodulator that has been returned by the Python API. "
   ]
  },
  {
   "cell_type": "code",
   "execution_count": 7,
   "metadata": {},
   "outputs": [],
   "source": [
    "result = mfli.sweeper.results[demod]"
   ]
  },
  {
   "cell_type": "code",
   "execution_count": 8,
   "metadata": {},
   "outputs": [
    {
     "data": {
      "text/plain": [
       "<zhinst.toolkit.control.drivers.base.sweeper.SweeperResult object at 0x000001F8FCDF3F48>\n",
       "\n",
       "attributes:\n",
       " - header\n",
       " - timestamp\n",
       " - samplecount\n",
       " - flags\n",
       " - sampleformat\n",
       " - sweepmode\n",
       " - bandwidthmode\n",
       " - auxin0\n",
       " - auxin0pwr\n",
       " - auxin0stddev\n",
       " - auxin1\n",
       " - auxin1pwr\n",
       " - auxin1stddev\n",
       " - bandwidth\n",
       " - frequency\n",
       " - frequencypwr\n",
       " - frequencystddev\n",
       " - grid\n",
       " - phase\n",
       " - phasepwr\n",
       " - phasestddev\n",
       " - r\n",
       " - rpwr\n",
       " - rstddev\n",
       " - settling\n",
       " - tc\n",
       " - tcmeas\n",
       " - x\n",
       " - xpwr\n",
       " - xstddev\n",
       " - y\n",
       " - ypwr\n",
       " - ystddev\n",
       " - count\n",
       " - nexttimestamp\n",
       " - settimestamp"
      ]
     },
     "execution_count": 8,
     "metadata": {},
     "output_type": "execute_result"
    }
   ],
   "source": [
    "result"
   ]
  },
  {
   "cell_type": "code",
   "execution_count": 9,
   "metadata": {},
   "outputs": [
    {
     "data": {
      "image/png": "[encoded data removed]",
      "text/plain": [
       "<Figure size 432x288 with 1 Axes>"
      ]
     },
     "metadata": {
      "needs_background": "light"
     },
     "output_type": "display_data"
    }
   ],
   "source": [
    "import matplotlib.pyplot as plt\n",
    "\n",
    "plt.plot(result.frequency, result.x)\n",
    "plt.show()"
   ]
  }
 ],
 "metadata": {
  "kernelspec": {
   "display_name": "qcodes",
   "language": "python",
   "name": "qcodes"
  },
  "language_info": {
   "codemirror_mode": {
    "name": "ipython",
    "version": 3
   },
   "file_extension": ".py",
   "mimetype": "text/x-python",
   "name": "python",
   "nbconvert_exporter": "python",
   "pygments_lexer": "ipython3",
   "version": "3.7.5"
  }
 },
 "nbformat": 4,
 "nbformat_minor": 4
}
