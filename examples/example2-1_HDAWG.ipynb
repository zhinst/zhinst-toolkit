{
 "cells": [
  {
   "cell_type": "markdown",
   "metadata": {},
   "source": [
    "# HDAWG\n",
    "\n",
    "Initialize the `tk.HDAWG` instrument drivers as in the previous example and setup and connect the device. Its device serial is `dev8030` and we connect via ethernet (`1gbe`) to the host at `10.42.0.226`."
   ]
  },
  {
   "cell_type": "code",
   "execution_count": 1,
   "metadata": {},
   "outputs": [
    {
     "name": "stdout",
     "output_type": "stream",
     "text": [
      "Successfully connected to data server at 10.42.0.2268004 api version: 6\n",
      "Successfully connected to device DEV8030 on interface 1GBE\n"
     ]
    }
   ],
   "source": [
    "import zhinst.toolkit as tk\n",
    "\n",
    "hdawg = tk.HDAWG(\"hdawg1\", \"dev8030\", interface=\"1gbe\", host=\"10.42.0.226\")\n",
    "hdawg.setup()              # set up data server connection\n",
    "hdawg.connect_device()     # connect device to data server"
   ]
  },
  {
   "cell_type": "markdown",
   "metadata": {},
   "source": [
    "## AWG cores \n",
    "\n",
    "The *HDAWG* features eight *AWG channels* grouped in four *AWG Cores* with two channels each. These four *AWG Cores* can be accessed through the `awgs` property of the instruemnt driver. `awgs` is a list of four HDAWG-specific `AWGCore` objects. The `AWGCore` handles the basic functionality to control the *AWG Core* and program its sequencer to play a specific series of waveforms and commands.  "
   ]
  },
  {
   "cell_type": "code",
   "execution_count": 2,
   "metadata": {
    "scrolled": true
   },
   "outputs": [
    {
     "data": {
      "text/plain": [
       "hdawg1: <zhinst.toolkit.control.drivers.hdawg.AWG object at 0x00000203DB7BE128>\n",
       "    parent  : <zhinst.toolkit.control.drivers.hdawg.HDAWG object at 0x00000203DA1E09B0>\n",
       "    index   : 0\n",
       "    sequence: \n",
       "           type: None\n",
       "            ('target', <DeviceTypes.HDAWG: 'hdawg'>)\n",
       "            ('clock_rate', 2400000000.0)\n",
       "            ('period', 0.0001)\n",
       "            ('trigger_mode', 'None')\n",
       "            ('repetitions', 1)\n",
       "            ('alignment', 'End with Trigger')\n",
       "            ('n_HW_loop', 1)\n",
       "            ('dead_time', 5e-06)\n",
       "            ('trigger_delay', 0)\n",
       "            ('latency', 1.6e-07)\n",
       "            ('trigger_cmd_1', '//\\n')\n",
       "            ('trigger_cmd_2', '//\\n')\n",
       "            ('wait_cycles', 0)\n",
       "            ('dead_cycles', 0)\n",
       "            ('reset_phase', False)\n",
       "      IQ Modulation DISABLED"
      ]
     },
     "execution_count": 2,
     "metadata": {},
     "output_type": "execute_result"
    }
   ],
   "source": [
    "hdawg.awgs[0]"
   ]
  },
  {
   "cell_type": "markdown",
   "metadata": {},
   "source": [
    "An *AWG Core* features a list of *zhinst-toolkit* `Parameters` as well as methods that allow for a high-level control of the AWG Core. The *Parameters* control the channel outputs as well as their modulation settings.\n",
    "\n",
    "For instance, the channel outputs can be turned *on* and *off* like this:"
   ]
  },
  {
   "cell_type": "code",
   "execution_count": 3,
   "metadata": {},
   "outputs": [
    {
     "data": {
      "text/plain": [
       "('on', 'on')"
      ]
     },
     "execution_count": 3,
     "metadata": {},
     "output_type": "execute_result"
    }
   ],
   "source": [
    "hdawg.awgs[0].output1(\"on\")   \n",
    "hdawg.awgs[0].output2(\"on\")\n",
    "\n",
    "# are the outputs really on now?\n",
    "hdawg.awgs[0].outputs()"
   ]
  },
  {
   "cell_type": "code",
   "execution_count": 4,
   "metadata": {},
   "outputs": [],
   "source": [
    "hdawg.awgs[0].outputs((\"off\", \"off\"))"
   ]
  },
  {
   "cell_type": "markdown",
   "metadata": {},
   "source": [
    "## AWG output modulation\n",
    "\n",
    "The output modulation for both channel outputs can be turned on with:"
   ]
  },
  {
   "cell_type": "code",
   "execution_count": 5,
   "metadata": {},
   "outputs": [],
   "source": [
    "hdawg.awgs[0].enable_iq_modulation()"
   ]
  },
  {
   "cell_type": "markdown",
   "metadata": {},
   "source": [
    "This method applies the corresponding settings for IQ Modulation using \n",
    "one of the internal oscillators and two sine generators. The sines are \n",
    "used to modulate the AWG output channels at a 90 degree phase difference. The parameters \n",
    "`modulation_freq`, `modulation_phase_shift` and `gain1`, `gain2` \n",
    "correspond to the settings of the oscillator and the sine generators."
   ]
  },
  {
   "cell_type": "code",
   "execution_count": 6,
   "metadata": {},
   "outputs": [
    {
     "data": {
      "text/plain": [
       "Node: oscs/0/freq\n",
       "Description: Sets the modulation frequency of the AWG output channels.\n",
       "Type: Double\n",
       "Properties: Read, Write\n",
       "Unit: Hz"
      ]
     },
     "execution_count": 6,
     "metadata": {},
     "output_type": "execute_result"
    }
   ],
   "source": [
    "hdawg.awgs[0].modulation_freq"
   ]
  },
  {
   "cell_type": "markdown",
   "metadata": {},
   "source": [
    "A simple sweep of the modulation frequency could look like this:"
   ]
  },
  {
   "cell_type": "code",
   "execution_count": 7,
   "metadata": {},
   "outputs": [],
   "source": [
    "import numpy as np\n",
    "import time\n",
    "\n",
    "for f in np.linspace(10e6, 20e6, 101):\n",
    "    hdawg.awgs[0].modulation_freq(f)\n",
    "    # do something here\n",
    "    time.sleep(0.1)"
   ]
  },
  {
   "cell_type": "markdown",
   "metadata": {},
   "source": [
    "The *AWG Core* also holds a `SequenceProgram` that defines the pulse sequence played by the *AWG Sequencer*. One of the next examples will describe how this sequence program is defined and how you can configure it to play the sequence of waveforms that you want to use. "
   ]
  },
  {
   "cell_type": "markdown",
   "metadata": {},
   "source": [
    "## Programming the AWG core"
   ]
  },
  {
   "cell_type": "code",
   "execution_count": 8,
   "metadata": {},
   "outputs": [],
   "source": [
    "hdawg.awgs[0].outputs((\"on\", \"on\"))    # turn the outputs on"
   ]
  },
  {
   "cell_type": "markdown",
   "metadata": {},
   "source": [
    "All the parameters of the sequence program are set using `set_sequence_params(...)` which lets the user pass keyword arguments. The most important ones are \n",
    "\n",
    "* `sequence_type`: the type of sequence to be programmed. The 'Simple' sequence type allows the user to upload their own sample-based waveforms which are played in a well defined sequence. \n",
    "* `period`: the period in seconds in which the single shots of the experiment should be repeated\n",
    "* `repetitions`: the number of repetitions of the sequence"
   ]
  },
  {
   "cell_type": "code",
   "execution_count": 9,
   "metadata": {},
   "outputs": [],
   "source": [
    "hdawg.awgs[0].set_sequence_params(\n",
    "    sequence_type=\"Simple\",            # let the user uplaod the sample-defined waveforms\n",
    "    period=20e-6,                      # play the waveform every 20 us\n",
    "    repetitions=1e3,                   # repeat 1000 times\n",
    ")"
   ]
  },
  {
   "cell_type": "markdown",
   "metadata": {},
   "source": [
    "Because we are using the 'Simple' sequence type, we can define the waveforms as `numpy` arrays. The waveform is defined by samples, which means that the timing calculation has to be taken care of by the user! For example the sampling rate of the HDAWG is 2.4 Gs, thus a waveform of 1000 samples correpsonds to a duration of `1000 / 2.4e9 = 416.6 ns`.\n",
    "\n",
    "We first reset the queue to ensure it is empty, then we add our waveform to the queue. The waveform is always defined for both channels of the *AWG Core* simultaneously."
   ]
  },
  {
   "cell_type": "code",
   "execution_count": 10,
   "metadata": {},
   "outputs": [
    {
     "name": "stdout",
     "output_type": "stream",
     "text": [
      "Current length of queue: 1\n"
     ]
    },
    {
     "data": {
      "text/plain": [
       "[<zhinst.toolkit.helpers.waveform.Waveform at 0x203e1844a20>]"
      ]
     },
     "execution_count": 10,
     "metadata": {},
     "output_type": "execute_result"
    }
   ],
   "source": [
    "wave1 = np.ones(1000)\n",
    "wave2 = -np.ones(1000)\n",
    "\n",
    "hdawg.awgs[0].reset_queue()                   # reset the queue\n",
    "hdawg.awgs[0].queue_waveform(wave1, wave2)    # add the waveform to the queue\n",
    "\n",
    "# what is in the queue?\n",
    "hdawg.awgs[0].waveforms"
   ]
  },
  {
   "cell_type": "markdown",
   "metadata": {},
   "source": [
    "Next, we need to tell the *AWG Core* to compile the sequence program and to upload all the waveforms in the queue. The method `compile_and_upload_waveforms()` takes care of both these jobs for the 'Simple' sequence (to ensure the correct sequence program is compiled before all the waveforms are uploaded)."
   ]
  },
  {
   "cell_type": "code",
   "execution_count": 11,
   "metadata": {},
   "outputs": [
    {
     "name": "stdout",
     "output_type": "stream",
     "text": [
      "Compilation successful\n",
      "hdawg1-0: Sequencer status: ELF file uploaded\n",
      "Upload of 1 waveforms took 0.026985 s\n"
     ]
    }
   ],
   "source": [
    "hdawg.awgs[0].compile_and_upload_waveforms()  # compile the sequence program and uplaod all waveforms in the queue"
   ]
  },
  {
   "cell_type": "markdown",
   "metadata": {},
   "source": [
    "Now we can run our seuqence program."
   ]
  },
  {
   "cell_type": "code",
   "execution_count": 12,
   "metadata": {},
   "outputs": [],
   "source": [
    "hdawg.awgs[0].run()        # start the AWG Core\n",
    "hdawg.awgs[0].wait_done()  # wait until the AWG Core has finished playing the program"
   ]
  },
  {
   "cell_type": "markdown",
   "metadata": {},
   "source": [
    "This program will output two rectangular pulses of length 1000 samples (416.6 ns) with amplitude 1 on channel 1 and amplitude -1 on channel 2. The waveforms are played every 20 us and are repeated 1000 times. "
   ]
  }
 ],
 "metadata": {
  "kernelspec": {
   "display_name": "Python 3",
   "language": "python",
   "name": "python3"
  },
  "language_info": {
   "codemirror_mode": {
    "name": "ipython",
    "version": 3
   },
   "file_extension": ".py",
   "mimetype": "text/x-python",
   "name": "python",
   "nbconvert_exporter": "python",
   "pygments_lexer": "ipython3",
   "version": "3.6.9"
  }
 },
 "nbformat": 4,
 "nbformat_minor": 4
}
