{
 "cells": [
  {
   "cell_type": "markdown",
   "metadata": {},
   "source": [
    "# The *Data Acquisition Module*\n",
    "\n",
    "We use the `tk.MFLI` instrument driver for the MFLI Lock-In amplifier."
   ]
  },
  {
   "cell_type": "code",
   "execution_count": 1,
   "metadata": {},
   "outputs": [
    {
     "name": "stdout",
     "output_type": "stream",
     "text": [
      "Successfully connected to data server at 10.42.3.788004 api version: 6\n",
      "Successfully connected to device DEV3337 on interface PCIE\n"
     ]
    }
   ],
   "source": [
    "import zhinst.toolkit as tk\n",
    "\n",
    "mfli = tk.MFLI(\"mf1\", \"dev3337\", interface=\"pcie\", host=\"10.42.3.78\")\n",
    "mfli.setup()           # set up data server connection\n",
    "mfli.connect_device()  # connect device to data server"
   ]
  },
  {
   "cell_type": "markdown",
   "metadata": {},
   "source": [
    "The  *Data  Acquisition  Module*  corresponds  to  the  Data  Acquisition  tab  of  the  LabOne  User Interface. It enables the user to record and align time and frequency domain data from multiple instrument signal sources at a defined data rate. For more information on the *Data Acquisition Module* see the LabOne Programming Manual."
   ]
  },
  {
   "cell_type": "code",
   "execution_count": 2,
   "metadata": {},
   "outputs": [
    {
     "data": {
      "text/plain": [
       "<zhinst.toolkit.control.drivers.mfli.DAQModule object at 0x0000026AAB864F88>\n",
       "\n",
       "signals:\n",
       "parameters:\n",
       " - awgcontrol\n",
       " - bandwidth\n",
       " - bitmask\n",
       " - bits\n",
       " - buffercount\n",
       " - buffersize\n",
       " - clearhistory\n",
       " - count\n",
       " - delay\n",
       " - device\n",
       " - duration\n",
       " - edge\n",
       " - enable\n",
       " - endless\n",
       " - eventcount_mode\n",
       " - fft_absolute\n",
       " - fft_window\n",
       " - findlevel\n",
       " - flags\n",
       " - forcetrigger\n",
       " - grid_cols\n",
       " - grid_direction\n",
       " - grid_mode\n",
       " - grid_overwrite\n",
       " - grid_repetitions\n",
       " - grid_rowrepetition\n",
       " - grid_rows\n",
       " - grid_waterfall\n",
       " - historylength\n",
       " - holdoff_count\n",
       " - holdoff_time\n",
       " - hysteresis\n",
       " - level\n",
       " - preview\n",
       " - pulse_max\n",
       " - pulse_min\n",
       " - refreshrate\n",
       " - save_csvlocale\n",
       " - save_csvseparator\n",
       " - save_directory\n",
       " - save_fileformat\n",
       " - save_filename\n",
       " - save_save\n",
       " - save_saveonread\n",
       " - spectrum_autobandwidth\n",
       " - spectrum_enable\n",
       " - spectrum_frequencyspan\n",
       " - spectrum_overlapped\n",
       " - triggered\n",
       " - triggernode\n",
       " - type"
      ]
     },
     "execution_count": 2,
     "metadata": {},
     "output_type": "execute_result"
    }
   ],
   "source": [
    "mfli.daq"
   ]
  },
  {
   "cell_type": "markdown",
   "metadata": {},
   "source": [
    "List available sources of streaming signals ..."
   ]
  },
  {
   "cell_type": "code",
   "execution_count": 3,
   "metadata": {},
   "outputs": [
    {
     "data": {
      "text/plain": [
       "['dio0',\n",
       " 'auxin0',\n",
       " 'scope0',\n",
       " 'demod0',\n",
       " 'demod1',\n",
       " 'demod2',\n",
       " 'demod3',\n",
       " 'pid0_value',\n",
       " 'pid0_error',\n",
       " 'pid0_shift',\n",
       " 'pid1_value',\n",
       " 'pid1_error',\n",
       " 'pid1_shift',\n",
       " 'pid2_value',\n",
       " 'pid2_error',\n",
       " 'pid2_shift',\n",
       " 'pid3_value',\n",
       " 'pid3_error',\n",
       " 'pid3_shift',\n",
       " 'imp0',\n",
       " 'imp1']"
      ]
     },
     "execution_count": 3,
     "metadata": {},
     "output_type": "execute_result"
    }
   ],
   "source": [
    "mfli.daq.signals_list()"
   ]
  },
  {
   "cell_type": "markdown",
   "metadata": {},
   "source": [
    "... and different signal types for a given source."
   ]
  },
  {
   "cell_type": "code",
   "execution_count": 4,
   "metadata": {},
   "outputs": [
    {
     "data": {
      "text/plain": [
       "['x', 'y', 'r', 'xiy', 'theta', 'frequency', 'auxin0', 'auxin1', 'dio']"
      ]
     },
     "execution_count": 4,
     "metadata": {},
     "output_type": "execute_result"
    }
   ],
   "source": [
    "mfli.daq.signals_list(\"demod0\")"
   ]
  },
  {
   "cell_type": "markdown",
   "metadata": {},
   "source": [
    "### Time-domain measurement\n",
    "\n",
    "For our simple example, we first have to make sure the data transfer of the demodulator samples is enabled and set to the right transfer rate. For a loop-back experiment we also turn on the signal output."
   ]
  },
  {
   "cell_type": "code",
   "execution_count": 5,
   "metadata": {},
   "outputs": [
    {
     "data": {
      "text/plain": [
       "1"
      ]
     },
     "execution_count": 5,
     "metadata": {},
     "output_type": "execute_result"
    }
   ],
   "source": [
    "mfli.nodetree.demods[0].enable(1)\n",
    "mfli.nodetree.demods[0].rate(13500)\n",
    "mfli.nodetree.sigout.on(1)"
   ]
  },
  {
   "cell_type": "markdown",
   "metadata": {},
   "source": [
    "Use the method `signals_add(..)` to specify which signals should be acquired during a measurement. The return value gives the exact node path that will be subscribed to before the measurement."
   ]
  },
  {
   "cell_type": "code",
   "execution_count": 6,
   "metadata": {},
   "outputs": [
    {
     "name": "stdout",
     "output_type": "stream",
     "text": [
      "['/dev3337/demods/0/sample.x.avg', '/dev3337/demods/0/sample.y.avg']\n"
     ]
    }
   ],
   "source": [
    "demod_x = mfli.daq.signals_add(\"demod0\", \"x\")\n",
    "demod_y = mfli.daq.signals_add(\"demod0\", \"y\")\n",
    "\n",
    "# which signal nodes have been added?\n",
    "print(mfli.daq.signals)"
   ]
  },
  {
   "cell_type": "markdown",
   "metadata": {},
   "source": [
    "Use *trigger type*, *grid columns*, *grid rows* and other parameters to configure the measurement you want."
   ]
  },
  {
   "cell_type": "code",
   "execution_count": 7,
   "metadata": {},
   "outputs": [
    {
     "data": {
      "text/plain": [
       "100"
      ]
     },
     "execution_count": 7,
     "metadata": {},
     "output_type": "execute_result"
    }
   ],
   "source": [
    "mfli.daq.type(\"continuous\")\n",
    "mfli.daq.grid_cols(100)\n",
    "mfli.daq.grid_rows(100)"
   ]
  },
  {
   "cell_type": "markdown",
   "metadata": {},
   "source": [
    "The measurement routine starts using the `measure(...)` method. At first, the mdoule will subscribe to the signal nodes that were previously added to the measurement. Then the measurement starts. When it is finished, the results will be added to the `results` property of the `daq` Module. "
   ]
  },
  {
   "cell_type": "code",
   "execution_count": 8,
   "metadata": {},
   "outputs": [
    {
     "name": "stdout",
     "output_type": "stream",
     "text": [
      "subscribed to: /dev3337/demods/0/sample.x.avg\n",
      "subscribed to: /dev3337/demods/0/sample.y.avg\n",
      "Progress: 0.0%\n",
      "Progress: 6.0%\n",
      "Progress: 66.0%\n",
      "Finished\n"
     ]
    }
   ],
   "source": [
    "mfli.daq.measure()"
   ]
  },
  {
   "cell_type": "markdown",
   "metadata": {},
   "source": [
    "The results property is a dictionary with the exact signal node as its keys. The return value from `signals_add(..)` can be used to access the result of that signal. The value in the dictionary is a `DAQResult` object that contains all measurement information such as the measurement values, the time- or frequency-axis as well as meta-information."
   ]
  },
  {
   "cell_type": "code",
   "execution_count": 9,
   "metadata": {},
   "outputs": [
    {
     "data": {
      "text/plain": [
       "<zhinst.toolkit.control.drivers.base.daq.DAQResult object at 0x0000026AB1434388>\n",
       "\n",
       "path:        /dev3337/demods/0/sample.x.avg\n",
       "value:       (100, 100)\n",
       "time:        (100,)"
      ]
     },
     "execution_count": 9,
     "metadata": {},
     "output_type": "execute_result"
    }
   ],
   "source": [
    "mfli.daq.results[demod_x]"
   ]
  },
  {
   "cell_type": "code",
   "execution_count": 10,
   "metadata": {},
   "outputs": [
    {
     "data": {
      "text/plain": [
       "<zhinst.toolkit.control.drivers.base.daq.DAQResult object at 0x0000026AB14343C8>\n",
       "\n",
       "path:        /dev3337/demods/0/sample.y.avg\n",
       "value:       (100, 100)\n",
       "time:        (100,)"
      ]
     },
     "execution_count": 10,
     "metadata": {},
     "output_type": "execute_result"
    }
   ],
   "source": [
    "mfli.daq.results[demod_y]"
   ]
  },
  {
   "cell_type": "code",
   "execution_count": 11,
   "metadata": {},
   "outputs": [
    {
     "data": {
      "text/plain": [
       "array([[0.17687105, 0.17686948, 0.17686892, ..., 0.17687661, 0.17687867,\n",
       "        0.17687911],\n",
       "       [0.17687829, 0.1768773 , 0.17687646, ..., 0.17687221, 0.17687316,\n",
       "        0.17687356],\n",
       "       [0.17687416, 0.17687574, 0.17687715, ..., 0.17687359, 0.17687444,\n",
       "        0.17687569],\n",
       "       ...,\n",
       "       [0.17687166, 0.17687249, 0.17687409, ..., 0.17686543, 0.17686713,\n",
       "        0.17686817],\n",
       "       [0.17686746, 0.17686632, 0.17686557, ..., 0.17687962, 0.17687989,\n",
       "        0.17687941],\n",
       "       [0.17687887, 0.17687765, 0.17687563, ..., 0.17688278, 0.17688266,\n",
       "        0.17688241]])"
      ]
     },
     "execution_count": 11,
     "metadata": {},
     "output_type": "execute_result"
    }
   ],
   "source": [
    "result_x = mfli.daq.results[demod_x]\n",
    "\n",
    "result_x.value"
   ]
  },
  {
   "cell_type": "code",
   "execution_count": 12,
   "metadata": {},
   "outputs": [
    {
     "data": {
      "image/png": "[encoded data removed]",
      "text/plain": [
       "<Figure size 432x288 with 1 Axes>"
      ]
     },
     "metadata": {
      "needs_background": "light"
     },
     "output_type": "display_data"
    }
   ],
   "source": [
    "import matplotlib.pyplot as plt\n",
    "\n",
    "plt.imshow(result_x.value, extent=[result_x.time[0], result_x.time[-1], 0, 100], aspect=\"auto\")\n",
    "plt.show()"
   ]
  },
  {
   "cell_type": "markdown",
   "metadata": {},
   "source": [
    "### Frequency-domain measurement\n",
    "\n"
   ]
  },
  {
   "cell_type": "code",
   "execution_count": 13,
   "metadata": {},
   "outputs": [
    {
     "name": "stdout",
     "output_type": "stream",
     "text": [
      "['/dev3337/demods/0/sample.xiy.fft.abs.avg']\n"
     ]
    },
    {
     "data": {
      "text/plain": [
       "100"
      ]
     },
     "execution_count": 13,
     "metadata": {},
     "output_type": "execute_result"
    }
   ],
   "source": [
    "# add the Fourier Transform of the complex signal (X + iY)\n",
    "mfli.daq.signals_clear()\n",
    "demod_fft = mfli.daq.signals_add(\"demod0\", \"xiy\", fft=True)\n",
    "\n",
    "# which signal nodes have been added?\n",
    "print(mfli.daq.signals)\n",
    "\n",
    "# apply trigger and grid settings\n",
    "mfli.daq.type(\"continuous\")\n",
    "mfli.daq.grid_cols(1000)\n",
    "mfli.daq.grid_rows(100)"
   ]
  },
  {
   "cell_type": "code",
   "execution_count": 14,
   "metadata": {},
   "outputs": [
    {
     "name": "stdout",
     "output_type": "stream",
     "text": [
      "subscribed to: /dev3337/demods/0/sample.xiy.fft.abs.avg\n",
      "Progress: 0.0%\n",
      "Progress: 6.0%\n",
      "Progress: 16.0%\n",
      "Progress: 27.0%\n",
      "Progress: 37.0%\n",
      "Progress: 55.0%\n",
      "Progress: 66.0%\n",
      "Progress: 82.0%\n",
      "Progress: 93.0%\n",
      "Finished\n"
     ]
    }
   ],
   "source": [
    "mfli.daq.measure()"
   ]
  },
  {
   "cell_type": "code",
   "execution_count": 15,
   "metadata": {},
   "outputs": [
    {
     "data": {
      "text/plain": [
       "<zhinst.toolkit.control.drivers.base.daq.DAQResult object at 0x0000026AA93A8948>\n",
       "\n",
       "path:        /dev3337/demods/0/sample.xiy.fft.abs.avg\n",
       "value:       (100, 511)\n",
       "frequency:   (511,)"
      ]
     },
     "execution_count": 15,
     "metadata": {},
     "output_type": "execute_result"
    }
   ],
   "source": [
    "mfli.daq.results[demod_fft]"
   ]
  },
  {
   "cell_type": "code",
   "execution_count": 16,
   "metadata": {},
   "outputs": [
    {
     "data": {
      "image/png": "[encoded data removed]",
      "text/plain": [
       "<Figure size 432x288 with 1 Axes>"
      ]
     },
     "metadata": {
      "needs_background": "light"
     },
     "output_type": "display_data"
    }
   ],
   "source": [
    "result_fft = mfli.daq.results[demod_fft]\n",
    "\n",
    "plt.plot(result_fft.frequency, result_fft.value[0])\n",
    "plt.yscale(\"log\")\n",
    "plt.show()"
   ]
  }
 ],
 "metadata": {
  "kernelspec": {
   "display_name": "qcodes",
   "language": "python",
   "name": "qcodes"
  },
  "language_info": {
   "codemirror_mode": {
    "name": "ipython",
    "version": 3
   },
   "file_extension": ".py",
   "mimetype": "text/x-python",
   "name": "python",
   "nbconvert_exporter": "python",
   "pygments_lexer": "ipython3",
   "version": "3.7.5"
  }
 },
 "nbformat": 4,
 "nbformat_minor": 4
}
