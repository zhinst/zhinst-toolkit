{
 "cells": [
  {
   "cell_type": "markdown",
   "metadata": {},
   "source": [
    "# MFLI\n",
    "\n",
    "We use the `tk.MFLI` instrument driver for the MFLI Lock-In amplifier."
   ]
  },
  {
   "cell_type": "code",
   "execution_count": 1,
   "metadata": {},
   "outputs": [
    {
     "name": "stdout",
     "output_type": "stream",
     "text": [
      "Successfully connected to data server at 10.42.3.788004 api version: 6\n",
      "Successfully connected to device DEV3337 on interface PCIE\n"
     ]
    }
   ],
   "source": [
    "import zhinst.toolkit as tk\n",
    "\n",
    "mfli = tk.MFLI(\"mf1\", \"dev3337\", interface=\"pcie\", host=\"10.42.3.78\")\n",
    "mfli.setup() # set up data server connection\n",
    "mfli.connect_device() # connect device to data server"
   ]
  },
  {
   "cell_type": "markdown",
   "metadata": {},
   "source": [
    "## Nodetree\n",
    "\n",
    "Access the MFLI's nodetree:"
   ]
  },
  {
   "cell_type": "code",
   "execution_count": 2,
   "metadata": {
    "scrolled": true
   },
   "outputs": [
    {
     "data": {
      "text/plain": [
       "<zhinst.toolkit.control.nodetree.Nodetree object at 0x000001D33A152E08>\n",
       "nodes:\n",
       " - stats\n",
       " - oscs\n",
       " - demods\n",
       " - extrefs\n",
       " - triggers\n",
       " - status\n",
       " - dio\n",
       " - auxin\n",
       " - scope\n",
       " - system\n",
       " - sigin\n",
       " - currin\n",
       " - sigout\n",
       " - mod\n",
       " - pids\n",
       " - features\n",
       " - auxouts\n",
       " - tu\n",
       " - imps\n",
       "parameters:\n",
       " - clockbase"
      ]
     },
     "execution_count": 2,
     "metadata": {},
     "output_type": "execute_result"
    }
   ],
   "source": [
    "mfli.nodetree"
   ]
  },
  {
   "cell_type": "markdown",
   "metadata": {},
   "source": [
    "The `Parameter` *sample* of the demodulators uses the `getSample(...)` method of the *ziPython* API to read the latest sample of the demodulator. "
   ]
  },
  {
   "cell_type": "code",
   "execution_count": 3,
   "metadata": {},
   "outputs": [
    {
     "data": {
      "text/plain": [
       "(1.7865198904313488e-07-5.620227793044149e-07j)"
      ]
     },
     "execution_count": 3,
     "metadata": {},
     "output_type": "execute_result"
    }
   ],
   "source": [
    "mfli.nodetree.demods[0].sample()"
   ]
  },
  {
   "cell_type": "markdown",
   "metadata": {},
   "source": [
    "> ⚠️ Note that this parameter only returns a *single* sample. There is no guarantee for any precise time-relation between consecutive samples. For proper (triggered) data acquisition of signals aligned to a precise time-grid, please use the *Data Acquisition Module* (see below)."
   ]
  },
  {
   "cell_type": "markdown",
   "metadata": {},
   "source": [
    "## The *Data Acquisition Module* of the MFLI\n",
    "\n",
    "The MFLI comes with a *Data Acquisition Module* for precise (triggered) measurements. For more details on the *Data Acquisition Module* please see the according example."
   ]
  },
  {
   "cell_type": "code",
   "execution_count": 4,
   "metadata": {},
   "outputs": [
    {
     "data": {
      "text/plain": [
       "<zhinst.toolkit.control.drivers.mfli.DAQModule object at 0x000001D33F8BCD88>\n",
       "\n",
       "signals:\n",
       "parameters:\n",
       " - awgcontrol\n",
       " - bandwidth\n",
       " - bitmask\n",
       " - bits\n",
       " - buffercount\n",
       " - buffersize\n",
       " - clearhistory\n",
       " - count\n",
       " - delay\n",
       " - device\n",
       " - duration\n",
       " - edge\n",
       " - enable\n",
       " - endless\n",
       " - eventcount_mode\n",
       " - fft_absolute\n",
       " - fft_window\n",
       " - findlevel\n",
       " - flags\n",
       " - forcetrigger\n",
       " - grid_cols\n",
       " - grid_direction\n",
       " - grid_mode\n",
       " - grid_overwrite\n",
       " - grid_repetitions\n",
       " - grid_rowrepetition\n",
       " - grid_rows\n",
       " - grid_waterfall\n",
       " - historylength\n",
       " - holdoff_count\n",
       " - holdoff_time\n",
       " - hysteresis\n",
       " - level\n",
       " - preview\n",
       " - pulse_max\n",
       " - pulse_min\n",
       " - refreshrate\n",
       " - save_csvlocale\n",
       " - save_csvseparator\n",
       " - save_directory\n",
       " - save_fileformat\n",
       " - save_filename\n",
       " - save_save\n",
       " - save_saveonread\n",
       " - spectrum_autobandwidth\n",
       " - spectrum_enable\n",
       " - spectrum_frequencyspan\n",
       " - spectrum_overlapped\n",
       " - triggered\n",
       " - triggernode\n",
       " - type"
      ]
     },
     "execution_count": 4,
     "metadata": {},
     "output_type": "execute_result"
    }
   ],
   "source": [
    "mfli.daq"
   ]
  },
  {
   "cell_type": "markdown",
   "metadata": {},
   "source": [
    "List available sources of streaming signals ..."
   ]
  },
  {
   "cell_type": "code",
   "execution_count": 5,
   "metadata": {},
   "outputs": [
    {
     "data": {
      "text/plain": [
       "['dio0',\n",
       " 'auxin0',\n",
       " 'scope0',\n",
       " 'demod0',\n",
       " 'demod1',\n",
       " 'demod2',\n",
       " 'demod3',\n",
       " 'pid0_value',\n",
       " 'pid0_error',\n",
       " 'pid0_shift',\n",
       " 'pid1_value',\n",
       " 'pid1_error',\n",
       " 'pid1_shift',\n",
       " 'pid2_value',\n",
       " 'pid2_error',\n",
       " 'pid2_shift',\n",
       " 'pid3_value',\n",
       " 'pid3_error',\n",
       " 'pid3_shift',\n",
       " 'imp0',\n",
       " 'imp1']"
      ]
     },
     "execution_count": 5,
     "metadata": {},
     "output_type": "execute_result"
    }
   ],
   "source": [
    "mfli.daq.signals_list()"
   ]
  },
  {
   "cell_type": "markdown",
   "metadata": {},
   "source": [
    "... and different signal types for a given source."
   ]
  },
  {
   "cell_type": "code",
   "execution_count": 6,
   "metadata": {},
   "outputs": [
    {
     "data": {
      "text/plain": [
       "['x', 'y', 'r', 'xiy', 'theta', 'frequency', 'auxin0', 'auxin1', 'dio']"
      ]
     },
     "execution_count": 6,
     "metadata": {},
     "output_type": "execute_result"
    }
   ],
   "source": [
    "mfli.daq.signals_list(\"demod0\")"
   ]
  },
  {
   "cell_type": "markdown",
   "metadata": {},
   "source": [
    "Use the method `signals_add(..)` to specify which signals should be acquired during a measurement. The return value gives the exact node path that will be subscribed to before the measurement."
   ]
  },
  {
   "cell_type": "code",
   "execution_count": 7,
   "metadata": {},
   "outputs": [
    {
     "name": "stdout",
     "output_type": "stream",
     "text": [
      "['/dev3337/demods/0/sample.x.avg', '/dev3337/demods/0/sample.y.avg']\n"
     ]
    }
   ],
   "source": [
    "signal1 = mfli.daq.signals_add(\"demod0\", \"x\")\n",
    "signal2 = mfli.daq.signals_add(\"demod0\", \"y\")\n",
    "\n",
    "# which signal nodes have been added?\n",
    "print(mfli.daq.signals)"
   ]
  },
  {
   "cell_type": "markdown",
   "metadata": {},
   "source": [
    "Use *trigger type*, *grid columns*, *grid rows* and other parameters to configure the measurement you want."
   ]
  },
  {
   "cell_type": "code",
   "execution_count": 8,
   "metadata": {},
   "outputs": [
    {
     "data": {
      "text/plain": [
       "100"
      ]
     },
     "execution_count": 8,
     "metadata": {},
     "output_type": "execute_result"
    }
   ],
   "source": [
    "mfli.daq.type(\"continuous\")\n",
    "mfli.daq.grid_cols(100)\n",
    "mfli.daq.grid_rows(100)"
   ]
  },
  {
   "cell_type": "markdown",
   "metadata": {},
   "source": [
    "The measurement routine starts using the `measure(...)` method. At first, the mdoule will subscribe to the signal nodes that were previously added to the measurement. Then the measurement starts. When it is finished, the results will be added to the `results` property of the `daq` Module. "
   ]
  },
  {
   "cell_type": "code",
   "execution_count": 9,
   "metadata": {},
   "outputs": [
    {
     "name": "stdout",
     "output_type": "stream",
     "text": [
      "subscribed to: /dev3337/demods/0/sample.x.avg\n",
      "subscribed to: /dev3337/demods/0/sample.y.avg\n",
      "Progress: 0.0%\n",
      "Progress: 1.0%\n",
      "Progress: 7.0%\n",
      "Progress: 18.0%\n",
      "Progress: 26.0%\n",
      "Progress: 34.0%\n",
      "Progress: 42.0%\n",
      "Progress: 49.0%\n",
      "Progress: 60.0%\n",
      "Progress: 67.0%\n",
      "Progress: 75.0%\n",
      "Progress: 81.0%\n",
      "Progress: 89.0%\n",
      "Finished\n"
     ]
    }
   ],
   "source": [
    "mfli.daq.measure()"
   ]
  },
  {
   "cell_type": "markdown",
   "metadata": {},
   "source": [
    "The results property is a dictionary with the exact signal node as its keys. The return value from `signals_add(..)` can be used to access the result of that signal. The value in the dictionary is a `DAQResult` object that contains all measurement information such as the measurement values, the time- or frequency-axis as well as meta-information."
   ]
  },
  {
   "cell_type": "code",
   "execution_count": 10,
   "metadata": {},
   "outputs": [
    {
     "data": {
      "text/plain": [
       "<zhinst.toolkit.control.drivers.base.daq.DAQResult object at 0x000001D33FD01208>\n",
       "\n",
       "path:        /dev3337/demods/0/sample.x.avg\n",
       "value:       (100, 100)\n",
       "time:        (100,)"
      ]
     },
     "execution_count": 10,
     "metadata": {},
     "output_type": "execute_result"
    }
   ],
   "source": [
    "mfli.daq.results[signal1]"
   ]
  },
  {
   "cell_type": "code",
   "execution_count": 11,
   "metadata": {},
   "outputs": [
    {
     "data": {
      "text/plain": [
       "<zhinst.toolkit.control.drivers.base.daq.DAQResult object at 0x000001D33FD01248>\n",
       "\n",
       "path:        /dev3337/demods/0/sample.y.avg\n",
       "value:       (100, 100)\n",
       "time:        (100,)"
      ]
     },
     "execution_count": 11,
     "metadata": {},
     "output_type": "execute_result"
    }
   ],
   "source": [
    "mfli.daq.results[signal2]"
   ]
  },
  {
   "cell_type": "code",
   "execution_count": 13,
   "metadata": {},
   "outputs": [
    {
     "data": {
      "image/png": "[encoded data removed]",
      "text/plain": [
       "<Figure size 432x288 with 1 Axes>"
      ]
     },
     "metadata": {
      "needs_background": "light"
     },
     "output_type": "display_data"
    }
   ],
   "source": [
    "import matplotlib.pyplot as plt\n",
    "\n",
    "result1 = mfli.daq.results[signal1]\n",
    "\n",
    "plt.imshow(result1.value, extent=[result1.time[0], result1.time[-1], 0, 100], aspect=\"auto\")\n",
    "plt.show()"
   ]
  },
  {
   "cell_type": "markdown",
   "metadata": {},
   "source": [
    "## The *Sweeper Module* of the MFLI \n",
    "\n",
    "The MFLI also features a *Sweeper Module*. For more details on the *Sweeper Module* please see the according example. The module has all of the following *Parameters*:"
   ]
  },
  {
   "cell_type": "code",
   "execution_count": 14,
   "metadata": {},
   "outputs": [
    {
     "data": {
      "text/plain": [
       "<zhinst.toolkit.control.drivers.mfli.SweeperModule object at 0x000001D33A187288>\n",
       "\n",
       "signals:\n",
       "parameters:\n",
       " - averaging_sample\n",
       " - averaging_tc\n",
       " - averaging_time\n",
       " - awgcontrol\n",
       " - bandwidth\n",
       " - bandwidthcontrol\n",
       " - bandwidthoverlap\n",
       " - clearhistory\n",
       " - device\n",
       " - endless\n",
       " - gridnode\n",
       " - historylength\n",
       " - loopcount\n",
       " - maxbandwidth\n",
       " - omegasuppression\n",
       " - order\n",
       " - phaseunwrap\n",
       " - remainingtime\n",
       " - samplecount\n",
       " - save_csvlocale\n",
       " - save_csvseparator\n",
       " - save_directory\n",
       " - save_fileformat\n",
       " - save_filename\n",
       " - save_save\n",
       " - save_saveonread\n",
       " - scan\n",
       " - settling_inaccuracy\n",
       " - settling_tc\n",
       " - settling_time\n",
       " - sincfilter\n",
       " - start\n",
       " - stop\n",
       " - xmapping"
      ]
     },
     "execution_count": 14,
     "metadata": {},
     "output_type": "execute_result"
    }
   ],
   "source": [
    "mfli.sweeper"
   ]
  },
  {
   "cell_type": "markdown",
   "metadata": {},
   "source": [
    "As for the *Data Acquisition Module* the available signal sources can be shown with `signals_list(...)`. They can differ depending on the options installed in the instrument."
   ]
  },
  {
   "cell_type": "code",
   "execution_count": 15,
   "metadata": {},
   "outputs": [
    {
     "data": {
      "text/plain": [
       "['dio0',\n",
       " 'auxin0',\n",
       " 'scope0',\n",
       " 'demod0',\n",
       " 'demod1',\n",
       " 'demod2',\n",
       " 'demod3',\n",
       " 'pid0_value',\n",
       " 'pid0_error',\n",
       " 'pid0_shift',\n",
       " 'pid1_value',\n",
       " 'pid1_error',\n",
       " 'pid1_shift',\n",
       " 'pid2_value',\n",
       " 'pid2_error',\n",
       " 'pid2_shift',\n",
       " 'pid3_value',\n",
       " 'pid3_error',\n",
       " 'pid3_shift',\n",
       " 'imp0',\n",
       " 'imp1']"
      ]
     },
     "execution_count": 15,
     "metadata": {},
     "output_type": "execute_result"
    }
   ],
   "source": [
    "mfli.sweeper.signals_list()"
   ]
  },
  {
   "cell_type": "markdown",
   "metadata": {},
   "source": [
    "The *Parameters* that are available for sweeping can be listed with `sweep_parameter_list()`."
   ]
  },
  {
   "cell_type": "code",
   "execution_count": 17,
   "metadata": {},
   "outputs": [
    {
     "data": {
      "text/plain": [
       "['auxout1offset',\n",
       " 'auxout2offset',\n",
       " 'auxout3offset',\n",
       " 'auxout4offset',\n",
       " 'demdod1phase',\n",
       " 'demdod2phase',\n",
       " 'frequency',\n",
       " 'output1amp',\n",
       " 'output1offset']"
      ]
     },
     "execution_count": 17,
     "metadata": {},
     "output_type": "execute_result"
    }
   ],
   "source": [
    "mfli.sweeper.sweep_parameter_list()"
   ]
  }
 ],
 "metadata": {
  "kernelspec": {
   "display_name": "qcodes",
   "language": "python",
   "name": "qcodes"
  },
  "language_info": {
   "codemirror_mode": {
    "name": "ipython",
    "version": 3
   },
   "file_extension": ".py",
   "mimetype": "text/x-python",
   "name": "python",
   "nbconvert_exporter": "python",
   "pygments_lexer": "ipython3",
   "version": "3.7.5"
  }
 },
 "nbformat": 4,
 "nbformat_minor": 4
}
