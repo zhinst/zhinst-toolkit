{
 "cells": [
  {
   "cell_type": "markdown",
   "metadata": {},
   "source": [
    "# UHFQA"
   ]
  },
  {
   "cell_type": "markdown",
   "metadata": {},
   "source": [
    "Just like the driver for the HDAWG in the previous example, we now use the `tk.UHFQA` instrument driver."
   ]
  },
  {
   "cell_type": "code",
   "execution_count": 1,
   "metadata": {},
   "outputs": [
    {
     "name": "stdout",
     "output_type": "stream",
     "text": [
      "Successfully connected to data server at 10.42.0.2268004 api version: 6\n",
      "Successfully connected to device DEV2496 on interface 1GBE\n"
     ]
    }
   ],
   "source": [
    "import zhinst.toolkit as tk\n",
    "\n",
    "uhfqa = tk.UHFQA(\"qa1\", \"dev2496\", interface=\"1gbe\", host=\"10.42.0.226\")\n",
    "uhfqa.setup()           # set up data server connection\n",
    "uhfqa.connect_device()  # connect device to data server"
   ]
  },
  {
   "cell_type": "markdown",
   "metadata": {},
   "source": [
    "## AWG core of the UHFQA\n",
    "\n",
    "Also the UHFQA features one *AWG Core*. "
   ]
  },
  {
   "cell_type": "code",
   "execution_count": 2,
   "metadata": {
    "scrolled": true
   },
   "outputs": [
    {
     "data": {
      "text/plain": [
       "qa1: <zhinst.toolkit.control.drivers.uhfqa.AWG object at 0x000001ACE7967048>\n",
       "    parent  : <zhinst.toolkit.control.drivers.uhfqa.UHFQA object at 0x000001ACE63305C8>\n",
       "    index   : 0\n",
       "    sequence: \n",
       "           type: SequenceType.NONE\n",
       "            ('target', <DeviceTypes.UHFQA: 'uhfqa'>)\n",
       "            ('clock_rate', 2400000000.0)\n",
       "            ('period', 0.0001)\n",
       "            ('trigger_mode', <TriggerMode.SEND_TRIGGER: 'Send Trigger'>)\n",
       "            ('repetitions', 1)\n",
       "            ('alignment', <Alignment.END_WITH_TRIGGER: 'End with Trigger'>)\n",
       "            ('n_HW_loop', 1)\n",
       "            ('dead_time', 5e-06)\n",
       "            ('trigger_delay', 0)\n",
       "            ('latency', 1.6e-07)\n",
       "            ('trigger_cmd_1', 'setTrigger(1);\\n')\n",
       "            ('trigger_cmd_2', 'setTrigger(0);\\n')\n",
       "            ('wait_cycles', 0)\n",
       "            ('dead_cycles', 1500)\n",
       "            ('reset_phase', False)"
      ]
     },
     "execution_count": 2,
     "metadata": {},
     "output_type": "execute_result"
    }
   ],
   "source": [
    "uhfqa.awg"
   ]
  },
  {
   "cell_type": "markdown",
   "metadata": {},
   "source": [
    "## Readout channels of the UHFQA\n",
    "\n",
    "The UHFQA comes with signal processing streams for up to ten channels in parallel. The settings for the readout are grouped by channel in a list of all ten `channels`. Each item in the `channels` property of the UHFQA is one `ReadoutChannel` object that represent the signal processing path for one of the ten channels."
   ]
  },
  {
   "cell_type": "code",
   "execution_count": 3,
   "metadata": {},
   "outputs": [
    {
     "data": {
      "text/plain": [
       "Readout Channel 0:  <zhinst.toolkit.control.drivers.uhfqa.ReadoutChannel object at 0x000001ACE7967288>\n",
       "     rotation          : 0.0\n",
       "     threshold         : 0.0\n",
       "      Weighted Integration Disabled"
      ]
     },
     "execution_count": 3,
     "metadata": {},
     "output_type": "execute_result"
    }
   ],
   "source": [
    "uhfqa.channels[0]"
   ]
  },
  {
   "cell_type": "markdown",
   "metadata": {},
   "source": [
    "Each of the channels follows the following signal processing steps:\n",
    "\n",
    "1. Demodulation of the input signal\n",
    "2. Rotation in the complex plane\n",
    "3. Thresholding for binary result values\n",
    "\n",
    "\n",
    "The values for the rotation and thresholding stages can be set using the `rotation` and `threshold` parameter of the *channel*. \n",
    "\n",
    "The standard mode for the demodulation of input signals is the *weighted integration* mode. This corresponds to setting the integration weights for the two quadratures of the input signal to oscillate at a given demodulation frequency. When enabling the weighted integration with `ch.enable()`, the integration weights for the two quadratures are set. The demodulation frequency is set to the parameter `readout_frequency`.\n",
    "\n",
    "Enabling weighted integration for the first four channels of the UHFQA and setting their demodulation frequency could look like this: "
   ]
  },
  {
   "cell_type": "code",
   "execution_count": 4,
   "metadata": {},
   "outputs": [],
   "source": [
    "freqs = [85.6e6, 101.3e6, 132.8e6]\n",
    "\n",
    "for ch in uhfqa.channels[:3]:\n",
    "    ch.enable()\n",
    "    ch.readout_frequency(freqs[ch.index])"
   ]
  },
  {
   "cell_type": "markdown",
   "metadata": {},
   "source": [
    "The resut vector of each channel can be retrieved from the instrument by calling the read-only parameter *result*."
   ]
  },
  {
   "cell_type": "code",
   "execution_count": 5,
   "metadata": {},
   "outputs": [
    {
     "data": {
      "text/plain": [
       "Node: qas/0/result/data/0/wave\n",
       "Description: Returns the result vector of the readout channel.\n",
       "Type: Numpy array\n",
       "Properties: Read\n",
       "Unit: None"
      ]
     },
     "execution_count": 5,
     "metadata": {},
     "output_type": "execute_result"
    }
   ],
   "source": [
    "uhfqa.channels[0].result"
   ]
  },
  {
   "cell_type": "code",
   "execution_count": 6,
   "metadata": {},
   "outputs": [
    {
     "data": {
      "text/plain": [
       "array([0., 0., 0., 0., 0., 0., 0., 0., 0., 0., 0., 0., 0., 0., 0., 0., 0.,\n",
       "       0., 0., 0., 0., 0., 0., 0., 0., 0., 0., 0., 0., 0., 0., 0., 0., 0.,\n",
       "       0., 0., 0., 0., 0., 0., 0., 0., 0., 0., 0., 0., 0., 0., 0., 0., 0.,\n",
       "       0., 0., 0., 0., 0., 0., 0., 0., 0., 0., 0., 0., 0., 0., 0., 0., 0.,\n",
       "       0., 0., 0., 0., 0., 0., 0., 0., 0., 0., 0., 0., 0., 0., 0., 0., 0.,\n",
       "       0., 0., 0., 0., 0., 0., 0., 0., 0., 0., 0., 0., 0., 0., 0.])"
      ]
     },
     "execution_count": 6,
     "metadata": {},
     "output_type": "execute_result"
    }
   ],
   "source": [
    "uhfqa.channels[0].result()"
   ]
  },
  {
   "cell_type": "markdown",
   "metadata": {},
   "source": [
    "## Readout parameters\n",
    "\n",
    "There are readout parameters taht are not specific to one isngle channel but affect all ten readout channels. These are\n",
    "\n",
    "* the `integration_time`: the time in seconds used for integrating the input signals\n",
    "* the `result_source` lets the user select at which point in the signal processing path the `result` value should be taken\n",
    "* the `averaging_mode` specifies if the hardware averages on the device should be taken in a *sequential* or *cyclic* way \n",
    "* the `crosstalk_matrix` specifies a 10 x 10 matrix that can be calibrated to compensate for crosstalk betweeen the channels\n",
    "\n",
    "These three *parameters* are attributes of the UHFQA instrument driver."
   ]
  },
  {
   "cell_type": "code",
   "execution_count": 7,
   "metadata": {},
   "outputs": [
    {
     "data": {
      "text/plain": [
       "Node: qas/0/integration/length\n",
       "Description: The integration time of the QA Integration unit.\n",
       "Type: Double\n",
       "Properties: Read, Write\n",
       "Unit: s\n",
       "Value: 2e-06"
      ]
     },
     "execution_count": 7,
     "metadata": {},
     "output_type": "execute_result"
    }
   ],
   "source": [
    "uhfqa.integration_time"
   ]
  },
  {
   "cell_type": "code",
   "execution_count": 8,
   "metadata": {},
   "outputs": [
    {
     "data": {
      "text/plain": [
       "Node: qas/0/result/source\n",
       "Description: The signal source for the QA Results unit. One of {'Crosstalk', 'Threshold', 'Rotation', 'Crosstalk Correlation', 'Threshold Correlation', 'Integration'}.\n",
       "Type: Integer\n",
       "Properties: Read, Write\n",
       "Mapping: {0: 'Crosstalk', 1: 'Threshold', 2: 'Rotation', 4: 'Crosstalk Correlation', 5: 'Threshold Correlation', 7: 'Integration'}\n",
       "Unit: None"
      ]
     },
     "execution_count": 8,
     "metadata": {},
     "output_type": "execute_result"
    }
   ],
   "source": [
    "uhfqa.result_source"
   ]
  },
  {
   "cell_type": "code",
   "execution_count": 9,
   "metadata": {},
   "outputs": [
    {
     "data": {
      "text/plain": [
       "Node: qas/0/result/mode\n",
       "Description: Selects the order of the result logger. One of {'Cyclic', 'Sequential'}.\n",
       "Type: Integer\n",
       "Properties: Read, Write\n",
       "Mapping: {0: 'Cyclic', 1: 'Sequential'}\n",
       "Unit: None"
      ]
     },
     "execution_count": 9,
     "metadata": {},
     "output_type": "execute_result"
    }
   ],
   "source": [
    "uhfqa.averaging_mode"
   ]
  },
  {
   "cell_type": "code",
   "execution_count": 10,
   "metadata": {},
   "outputs": [
    {
     "data": {
      "text/plain": [
       "array([[1., 0., 0., 0., 0., 0., 0., 0., 0., 0.],\n",
       "       [0., 1., 0., 0., 0., 0., 0., 0., 0., 0.],\n",
       "       [0., 0., 1., 0., 0., 0., 0., 0., 0., 0.],\n",
       "       [0., 0., 0., 1., 0., 0., 0., 0., 0., 0.],\n",
       "       [0., 0., 0., 0., 1., 0., 0., 0., 0., 0.],\n",
       "       [0., 0., 0., 0., 0., 1., 0., 0., 0., 0.],\n",
       "       [0., 0., 0., 0., 0., 0., 1., 0., 0., 0.],\n",
       "       [0., 0., 0., 0., 0., 0., 0., 1., 0., 0.],\n",
       "       [0., 0., 0., 0., 0., 0., 0., 0., 1., 0.],\n",
       "       [0., 0., 0., 0., 0., 0., 0., 0., 0., 1.]])"
      ]
     },
     "execution_count": 10,
     "metadata": {},
     "output_type": "execute_result"
    }
   ],
   "source": [
    "uhfqa.crosstalk_matrix()"
   ]
  },
  {
   "cell_type": "markdown",
   "metadata": {},
   "source": [
    "Other important readout parameters can be accessed through the *nodetree*, for example the \n",
    "\n",
    "* *result length*: the number of points to acquire\n",
    "* *result averages*: the number of hardware averages"
   ]
  },
  {
   "cell_type": "code",
   "execution_count": 11,
   "metadata": {},
   "outputs": [
    {
     "data": {
      "text/plain": [
       "Node: /DEV2496/QAS/0/RESULT/LENGTH\n",
       "Description: The time duration of each capture in samples. A maximum of 4096 samples can be captured, which corresponds to 2.3 µs.\n",
       "Type: Integer (64 bit)\n",
       "Properties: Read, Write, Setting\n",
       "Unit: None"
      ]
     },
     "execution_count": 11,
     "metadata": {},
     "output_type": "execute_result"
    }
   ],
   "source": [
    "uhfqa.nodetree.qa.result.length"
   ]
  },
  {
   "cell_type": "code",
   "execution_count": 12,
   "metadata": {},
   "outputs": [
    {
     "data": {
      "text/plain": [
       "Node: /DEV2496/QAS/0/RESULT/AVERAGES\n",
       "Description: log2 of the number of averages to perform, i.e. 0 means no averaging, 1 means 2 values are averaged, etc. Maximum setting is 15 meaning 2^15 values are averaged.\n",
       "Type: Integer (64 bit)\n",
       "Properties: Read, Write, Setting\n",
       "Unit: None"
      ]
     },
     "execution_count": 12,
     "metadata": {},
     "output_type": "execute_result"
    }
   ],
   "source": [
    "uhfqa.nodetree.qa.result.averages"
   ]
  },
  {
   "cell_type": "markdown",
   "metadata": {},
   "source": [
    "## *Arm* the UHFQA readout\n",
    "\n",
    "The `arm(...)` method of the UHFQA prepares the device for data acquisition. It enables the *Results Acquisition* and resets the acquired points to zero. This should be done before every measurement. The method also includes a shortcut to setting the values *result length* and *result averages*. They can be specified as keyword arguments. If the keyword arguemnts are not specified, nothing is changed."
   ]
  },
  {
   "cell_type": "code",
   "execution_count": 13,
   "metadata": {},
   "outputs": [],
   "source": [
    "uhfqa.arm(length=1e3, averages=2**5)"
   ]
  }
 ],
 "metadata": {
  "kernelspec": {
   "display_name": "qcodes",
   "language": "python",
   "name": "qcodes"
  },
  "language_info": {
   "codemirror_mode": {
    "name": "ipython",
    "version": 3
   },
   "file_extension": ".py",
   "mimetype": "text/x-python",
   "name": "python",
   "nbconvert_exporter": "python",
   "pygments_lexer": "ipython3",
   "version": "3.7.5"
  }
 },
 "nbformat": 4,
 "nbformat_minor": 4
}
