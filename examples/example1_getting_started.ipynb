{
 "cells": [
  {
   "cell_type": "markdown",
   "metadata": {},
   "source": [
    "# Quick Start Guide\n",
    "\n",
    "Import the *toolkit* from the *zhinst* namespace as follows:\n"
   ]
  },
  {
   "cell_type": "code",
   "execution_count": 1,
   "metadata": {},
   "outputs": [],
   "source": [
    "import zhinst.toolkit as tk"
   ]
  },
  {
   "cell_type": "markdown",
   "metadata": {},
   "source": [
    "## Initialize the device\n",
    "\n",
    "The *toolkit* provides instrument drivers for multiple different *Zurich Instruments* devices. It includes drivers for\n",
    "\n",
    "* HDAWG\n",
    "* UHFQA\n",
    "* PQSC\n",
    "* UHFLI\n",
    "* MFLI\n",
    "\n",
    "All of the instrument drivers available in the *toolkit* share some basic device properties. Every device is identified by a `name` and a `serial` number. The `name` is free for the user to chose and only for their convenience. The `serial` however, is a unique identifier for every *Zurich Instruments* device. The serial number can be found on the back panel of instrument and is of the format `DEV1234`. In addition, the *toolkit* needs to know what `interface` the device uses and where to find the data server (`host`). The value for the interface defaults to a connection via Ethernet (`1GbE`) and the host address is `localhost` unless specified otherwise.\n",
    "\n",
    "As a first example, we now initialize the instrument driver for a HDAWG. We name it `hdawg1` and we know that our device's serial number is `dev8030`."
   ]
  },
  {
   "cell_type": "code",
   "execution_count": 2,
   "metadata": {},
   "outputs": [
    {
     "name": "stdout",
     "output_type": "stream",
     "text": [
      "Successfully connected to data server at 10.42.0.2268004 api version: 6\n",
      "Successfully connected to device DEV8030 on interface 1GBE\n"
     ]
    }
   ],
   "source": [
    "hdawg = tk.HDAWG(\"hdawg1\", \"dev8030\", interface=\"1gbe\", host=\"10.42.0.226\")\n",
    "\n",
    "hdawg.setup()           # set up data server connection\n",
    "hdawg.connect_device()  # connect device to data server"
   ]
  },
  {
   "cell_type": "markdown",
   "metadata": {},
   "source": [
    "The methods `setup()` and `connect_device()` initialize the data server and connect the device to it. Now the device is connected and ready to go.\n",
    "\n",
    "Every instrument driver in the *toolkit* features some properties with basic information about the device. What was the device's serial number again? What options are installed?"
   ]
  },
  {
   "cell_type": "code",
   "execution_count": 3,
   "metadata": {},
   "outputs": [
    {
     "name": "stdout",
     "output_type": "stream",
     "text": [
      "name:        hdawg1\n",
      "serial:      dev8030\n",
      "device:      DeviceTypes.HDAWG\n",
      "options:     ['MF', 'CNT', 'ME', 'PC', 'SKW']\n",
      "interface:   1gbe\n",
      "connected:   True\n"
     ]
    }
   ],
   "source": [
    "print(f\"name:        {hdawg.name}\")\n",
    "print(f\"serial:      {hdawg.serial}\")\n",
    "print(f\"device:      {hdawg.device_type}\")\n",
    "print(f\"options:     {hdawg.options}\")\n",
    "print(f\"interface:   {hdawg.interface}\")\n",
    "print(f\"connected:   {hdawg.is_connected}\")"
   ]
  },
  {
   "cell_type": "markdown",
   "metadata": {},
   "source": [
    "## Access the device's nodetree  \n",
    "\n",
    "The driver's property `nodetree` is a data structure that allows the user to access all the settings and data on the device. The settings are highly structured into logical groups, enumerations and options. \n",
    "\n",
    "For example, all of the device's signal inputs and all of its signal outputs are grouped together. Also the HDAWG's eight sine generators are grouped into `sines` that are then enumerated from `0 - 7`. Each `Node` in the nodetree as well as the nodetree itself can have other `Nodes` or `Parameters` as attributes. The `Parameters` are the 'leaves' of the tree data structure and represent individual settings or data on the instrument.\n",
    "\n",
    "```\n",
    "HDAWG\n",
    "└── nodetree   \n",
    "    │\n",
    "    └─── sigouts             <--- Node List\n",
    "    │    └─── 0              <--- Node\n",
    "    │    │    └─── on        <--- Prameter\n",
    "    │    │    └─── range \n",
    "    │    │    └─── direct\n",
    "    │    │    └─── offset\n",
    "    │    │    └─── ...\n",
    "    │    └─── 1  \n",
    "    │    └─── ...  \n",
    "    │\n",
    "    └─── oscs \n",
    "    │    └─── 0\n",
    "    │    │    └─── freq\n",
    "    │    └─── 1\n",
    "    │    └─── 2\n",
    "    │    └─── ...\n",
    "    │\n",
    "    └─── sines\n",
    "    │    └─── ...\n",
    "    │\n",
    "    └─── dio\n",
    "    │    └─── ...\n",
    "    │\n",
    "    └─── ...     \n",
    "```\n",
    "\n",
    "Enumerated nodes such as the eight sine-generators or 16 oscillators of the HDAWG are grouped together in lists. For example the node of the first sine-generator would be accessed via `hdawg.nodetree.sines[0]`. \n",
    "\n",
    "In a *Jupyter* notebook or a console it is easy to navigate through the `NodeTree`. At every given node, the object representation shows a list of all the available sub-nodes and parameters. In this way it is easy to find the exact setting you might need."
   ]
  },
  {
   "cell_type": "code",
   "execution_count": 4,
   "metadata": {},
   "outputs": [
    {
     "data": {
      "text/plain": [
       "<zhinst.toolkit.control.nodetree.Nodetree object at 0x00000224A97F8908>\n",
       "nodes:\n",
       " - stats\n",
       " - oscs\n",
       " - status\n",
       " - sines\n",
       " - awgs\n",
       " - dio\n",
       " - system\n",
       " - sigouts\n",
       " - triggers\n",
       " - features\n",
       " - cnts\n",
       "parameters:\n",
       " - clockbase"
      ]
     },
     "execution_count": 4,
     "metadata": {},
     "output_type": "execute_result"
    }
   ],
   "source": [
    "hdawg.nodetree"
   ]
  },
  {
   "cell_type": "code",
   "execution_count": 5,
   "metadata": {},
   "outputs": [
    {
     "data": {
      "text/plain": [
       "[<zhinst.toolkit.control.nodetree.Node object at 0x00000224AE08EF60>\n",
       " nodes:\n",
       "  - enables\n",
       "  - amplitudes\n",
       " parameters:\n",
       "  - oscselect\n",
       "  - phaseshift\n",
       "  - harmonic,\n",
       " <zhinst.toolkit.control.nodetree.Node object at 0x00000224AE093160>\n",
       " nodes:\n",
       "  - enables\n",
       "  - amplitudes\n",
       " parameters:\n",
       "  - oscselect\n",
       "  - phaseshift\n",
       "  - harmonic]"
      ]
     },
     "execution_count": 5,
     "metadata": {},
     "output_type": "execute_result"
    }
   ],
   "source": [
    "hdawg.nodetree.sines[0:2]"
   ]
  },
  {
   "cell_type": "markdown",
   "metadata": {},
   "source": [
    "At the end of the tree, the leaves, are *zhinst-toolkit* `Parameters`. In case you wonder what a certain parameter does, its object representation offers an insightful description."
   ]
  },
  {
   "cell_type": "code",
   "execution_count": 6,
   "metadata": {},
   "outputs": [
    {
     "data": {
      "text/plain": [
       "Node: /DEV8030/OSCS/0/FREQ\n",
       "Description: Frequency control for each oscillator.\n",
       "Type: Double\n",
       "Properties: Read, Write, Setting\n",
       "Unit: Hz"
      ]
     },
     "execution_count": 6,
     "metadata": {},
     "output_type": "execute_result"
    }
   ],
   "source": [
    "hdawg.nodetree.oscs[0].freq"
   ]
  },
  {
   "cell_type": "markdown",
   "metadata": {},
   "source": [
    "The parameters are callable to set and get the instrument values."
   ]
  },
  {
   "cell_type": "code",
   "execution_count": 7,
   "metadata": {},
   "outputs": [
    {
     "data": {
      "text/plain": [
       "99999999.99999432"
      ]
     },
     "execution_count": 7,
     "metadata": {},
     "output_type": "execute_result"
    }
   ],
   "source": [
    "# set oscillator frequency to 100 MHz\n",
    "hdawg.nodetree.oscs[0].freq(100e6)\n",
    "\n",
    "# what frequency is the oscillator set to now?\n",
    "hdawg.nodetree.oscs[0].freq()"
   ]
  },
  {
   "cell_type": "markdown",
   "metadata": {},
   "source": [
    "The instrument driver's *nodetree* property is created whenever it connects the device to the data server. This ensures that the available nodes and parameters in the nodetree are always up to date with the latest version of the device's firmware. \n",
    "\n",
    "Depending on the device, the instrument drivers also have properties other than the `nodetree`. Those are called *Modules* and depend on the type of device at hand and the options installed on it. Modules can for example be the *Data Acquisition Module* or the *Sweeper Module*. The devices with AWGs such as the HDAWG, UHFQA and the UHFLI (if option is installed) feature *AWG Modules*. Each *AWG Module* controls two chanels and features high-level functionality for programming sequences of waveforms and generating IQ-Modulation signals.\n",
    "\n",
    "For more information, see the package documentation of the `zhinst-toolkit` and the following examples. "
   ]
  }
 ],
 "metadata": {
  "kernelspec": {
   "display_name": "Python 3",
   "language": "python",
   "name": "python3"
  },
  "language_info": {
   "codemirror_mode": {
    "name": "ipython",
    "version": 3
   },
   "file_extension": ".py",
   "mimetype": "text/x-python",
   "name": "python",
   "nbconvert_exporter": "python",
   "pygments_lexer": "ipython3",
   "version": "3.6.9"
  }
 },
 "nbformat": 4,
 "nbformat_minor": 4
}
